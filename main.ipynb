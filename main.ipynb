{
 "cells": [
  {
   "cell_type": "code",
   "execution_count": 1,
   "metadata": {},
   "outputs": [
    {
     "name": "stderr",
     "output_type": "stream",
     "text": [
      "/home/stefano/anaconda3/envs/test_ML_p2/lib/python3.10/site-packages/tqdm/auto.py:21: TqdmWarning: IProgress not found. Please update jupyter and ipywidgets. See https://ipywidgets.readthedocs.io/en/stable/user_install.html\n",
      "  from .autonotebook import tqdm as notebook_tqdm\n"
     ]
    }
   ],
   "source": [
    "%load_ext autoreload\n",
    "%autoreload 2\n",
    "\n",
    "import numpy as np\n",
    "import os\n",
    "import pandas as pd\n",
    "from sklearn.preprocessing import MinMaxScaler\n",
    "from sklearn.ensemble import RandomForestClassifier, GradientBoostingClassifier\n",
    "from sklearn.linear_model import LogisticRegression\n",
    "from sklearn.neural_network import MLPClassifier\n",
    "from sklearn.svm import SVC\n",
    "from scipy.stats import f_oneway\n",
    "from sklearn.model_selection import train_test_split\n",
    "from sklearn.naive_bayes import MultinomialNB\n",
    "from sklearn.pipeline import Pipeline\n",
    "from sklearn.impute import SimpleImputer\n",
    "from sklearn.model_selection import cross_validate\n",
    "from sklearn.feature_selection import SelectKBest\n",
    "from sklearn.feature_selection import chi2\n",
    "from sklearn.feature_extraction.text import CountVectorizer, TfidfVectorizer\n",
    "from sklearn.decomposition import PCA\n",
    "from gensim.models import Word2Vec\n",
    "from nltk.tokenize import word_tokenize  # You may need to install nltk and download punkt\n",
    "from sklearn.metrics import make_scorer, accuracy_score, precision_score, recall_score, f1_score\n",
    "from sklearn.preprocessing import StandardScaler\n",
    "from sklearn.metrics import accuracy_score\n",
    "from scipy.stats import ttest_rel\n",
    "import matplotlib.pyplot as plt\n",
    "from sklearn.metrics import f1_score\n",
    "from sklearn.metrics import precision_recall_fscore_support\n",
    "from utilities import *\n",
    "\n",
    "import torch\n",
    "from transformers import BertModel\n",
    "from torch.utils.data import Dataset, DataLoader\n",
    "from transformers import BertModel, BertTokenizer\n",
    "from transformers import BertTokenizer, BertForSequenceClassification, AdamW"
   ]
  },
  {
   "cell_type": "code",
   "execution_count": 2,
   "metadata": {},
   "outputs": [],
   "source": [
    "# Upload the DataFrame\n",
    "df = pd.read_csv('data/modelready_220423.csv')"
   ]
  },
  {
   "cell_type": "markdown",
   "metadata": {},
   "source": [
    "## Cleaning dataset"
   ]
  },
  {
   "cell_type": "code",
   "execution_count": 3,
   "metadata": {},
   "outputs": [
    {
     "name": "stdout",
     "output_type": "stream",
     "text": [
      "tot columns = 772, numeric type columns = 765\n"
     ]
    },
    {
     "data": {
      "text/html": [
       "<div>\n",
       "<style scoped>\n",
       "    .dataframe tbody tr th:only-of-type {\n",
       "        vertical-align: middle;\n",
       "    }\n",
       "\n",
       "    .dataframe tbody tr th {\n",
       "        vertical-align: top;\n",
       "    }\n",
       "\n",
       "    .dataframe thead th {\n",
       "        text-align: right;\n",
       "    }\n",
       "</style>\n",
       "<table border=\"1\" class=\"dataframe\">\n",
       "  <thead>\n",
       "    <tr style=\"text-align: right;\">\n",
       "      <th></th>\n",
       "      <th>publication_number</th>\n",
       "      <th>company_name</th>\n",
       "      <th>countries_in_family</th>\n",
       "      <th>publn_nr</th>\n",
       "      <th>primary_cpc</th>\n",
       "      <th>abstract</th>\n",
       "      <th>description_text</th>\n",
       "    </tr>\n",
       "  </thead>\n",
       "  <tbody>\n",
       "    <tr>\n",
       "      <th>0</th>\n",
       "      <td>US-8623043-B1</td>\n",
       "      <td>Entellus Medical, Inc.</td>\n",
       "      <td>['AU' 'EP' 'CA' 'US']</td>\n",
       "      <td>8623043</td>\n",
       "      <td>A61M29/02</td>\n",
       "      <td>A method of treating a constricted sinus passa...</td>\n",
       "      <td>RELATED APPLICATIONS \\n     This Application i...</td>\n",
       "    </tr>\n",
       "  </tbody>\n",
       "</table>\n",
       "</div>"
      ],
      "text/plain": [
       "  publication_number            company_name    countries_in_family publn_nr  \\\n",
       "0      US-8623043-B1  Entellus Medical, Inc.  ['AU' 'EP' 'CA' 'US']  8623043   \n",
       "\n",
       "  primary_cpc                                           abstract  \\\n",
       "0   A61M29/02  A method of treating a constricted sinus passa...   \n",
       "\n",
       "                                    description_text  \n",
       "0  RELATED APPLICATIONS \\n     This Application i...  "
      ]
     },
     "execution_count": 3,
     "metadata": {},
     "output_type": "execute_result"
    }
   ],
   "source": [
    "# Print non-numerical columns\n",
    "numerics = ['int16', 'int32', 'int64', 'float16', 'float32', 'float64']\n",
    "print(f'tot columns = {len(df.columns)}, numeric type columns = {len(df.select_dtypes(include=numerics).columns)}' ) # not too many non-numeric columns\n",
    "df.select_dtypes(include = ['object']).head(1)  "
   ]
  },
  {
   "cell_type": "code",
   "execution_count": 4,
   "metadata": {},
   "outputs": [],
   "source": [
    "# Extract unique countries in the df\n",
    "unique_values = set()\n",
    "df['countries_in_family'].apply(lambda x: unique_values.update(x.strip(\"[]\").replace(\"'\", \"\").split())) \n",
    "\n",
    "# Create new columns for each unique value (one-hot encoding)\n",
    "for value in unique_values:\n",
    "    # each country has a column (1 if the patent belong to the country 0 otherwise)\n",
    "    df[value] = df['countries_in_family'].apply(lambda x: 1 if value in x else 0)\n"
   ]
  },
  {
   "cell_type": "code",
   "execution_count": 5,
   "metadata": {},
   "outputs": [
    {
     "name": "stdout",
     "output_type": "stream",
     "text": [
      "missing value in description text 0\n"
     ]
    }
   ],
   "source": [
    "df = df[df.abstract.notna()].copy() # drop all samples without abstract (no way to impute it)\n",
    "print('missing value in description text' , df.description_text.isna().sum()) # description_text doesn't have mssing vales"
   ]
  },
  {
   "cell_type": "code",
   "execution_count": 6,
   "metadata": {},
   "outputs": [],
   "source": [
    "# Encode company names\n",
    "df['company_name_encoded'] = df.company_name.astype('category').cat.codes  # encode companies\n",
    "\n",
    "# Remove non-numeric columns\n",
    "df_columns_dropped = df.drop(['publication_number', 'company_name', 'countries_in_family', 'publn_nr','primary_cpc'], axis = 1)\n",
    "\n",
    "# f0_ has the same value as commercialization, the other two shouldn't be used\n",
    "df_columns_dropped = df_columns_dropped.drop(['f0_', 'centrality', 'similarity'], axis = 1)"
   ]
  },
  {
   "cell_type": "code",
   "execution_count": 7,
   "metadata": {},
   "outputs": [],
   "source": [
    "# Remove text as we can't compute min and max on it\n",
    "text = df_columns_dropped[['abstract', 'description_text']] # putting them aside for later\n",
    "df_columns_dropped.drop(['abstract', 'description_text'], axis=1, inplace=True)"
   ]
  },
  {
   "cell_type": "code",
   "execution_count": 8,
   "metadata": {},
   "outputs": [],
   "source": [
    "# Extracting what we'll try to predict\n",
    "y = df_columns_dropped['commercialized']\n",
    "df_columns_dropped.drop('commercialized', axis= 1, inplace=True)"
   ]
  },
  {
   "cell_type": "code",
   "execution_count": 9,
   "metadata": {},
   "outputs": [],
   "source": [
    "# Dropping columns where all the value are the same (only one unique value) they would be zero if I apply min max rescaling\n",
    "nunique = df_columns_dropped.nunique()\n",
    "cols_to_drop = nunique[nunique == 1].index\n",
    "df_clean = df_columns_dropped.drop(cols_to_drop, axis=1)"
   ]
  },
  {
   "cell_type": "code",
   "execution_count": 10,
   "metadata": {},
   "outputs": [],
   "source": [
    "for feature_name  in df_clean.columns: \n",
    "    feature_name.replace('v1', 'ge')"
   ]
  },
  {
   "cell_type": "code",
   "execution_count": 11,
   "metadata": {},
   "outputs": [],
   "source": [
    "# renaming google embedings for clarity\n",
    "df_clean.columns = [s.replace('v1', 'ge') for s in df_clean.columns]"
   ]
  },
  {
   "cell_type": "code",
   "execution_count": 12,
   "metadata": {},
   "outputs": [],
   "source": [
    "# Splitting train and test and trying best preprocessing on training set\n",
    "# All preprocessing will be done on X_train and only in the end tested on X_test\n",
    "X_train, X_test, y_train, y_test = train_test_split(df_clean, y, test_size=0.20)"
   ]
  },
  {
   "cell_type": "markdown",
   "metadata": {},
   "source": [
    "### Select best way to fill missin values"
   ]
  },
  {
   "cell_type": "code",
   "execution_count": null,
   "metadata": {},
   "outputs": [
    {
     "name": "stdout",
     "output_type": "stream",
     "text": [
      "method:mean\n",
      "Average F1 Score: 0.8773099882579126\n",
      "Average Accuracy: 0.8928704106507427\n",
      "Average Precision: 0.8896972853915812\n",
      "Average Recall: 0.8652758205634198\n",
      "\n",
      "method:median\n",
      "Average F1 Score: 0.8776682607078603\n",
      "Average Accuracy: 0.8931968189116167\n",
      "Average Precision: 0.8901557898127029\n",
      "Average Recall: 0.8655392418531689\n",
      "\n",
      "method:most_frequent\n",
      "Average F1 Score: 0.8775045299071584\n",
      "Average Accuracy: 0.8930802389031369\n",
      "Average Precision: 0.8902092841330909\n",
      "Average Recall: 0.8651705297120049\n",
      "\n",
      "method:zero\n",
      "Average F1 Score: 0.8776171676558387\n",
      "Average Accuracy: 0.893173500735732\n",
      "Average Precision: 0.8902764050312957\n",
      "Average Recall: 0.8653285214637592\n",
      "\n"
     ]
    }
   ],
   "source": [
    "# expected time to run: 3 minutes\n",
    "\n",
    "accuracies = []\n",
    "\n",
    "#rescale \n",
    "scaler = ('scaler', StandardScaler())\n",
    "filling_methods = ['mean', 'median', 'most_frequent', 'zero']\n",
    "\n",
    "for method in filling_methods:\n",
    "    # Make a copy of the original data to avoid modifying it\n",
    "    data_filled = X_train.copy()\n",
    "\n",
    "    # Fill NaN values based on the selected method\n",
    "    if method == 'zero':\n",
    "        # data_filled = data_filled.fillna(0)  # You can choose any constant value\n",
    "        imputer =  ('imputer', SimpleImputer(strategy='constant', fill_value=0))\n",
    "    else:\n",
    "        imputer = ('imputer', SimpleImputer(strategy=method, keep_empty_features=False))\n",
    "    \n",
    "    # Default max_iter was reached, so increased it\n",
    "    model = ('model', LogisticRegression(max_iter=1000))\n",
    "\n",
    "    pipeline = Pipeline([imputer ,scaler, model])\n",
    "\n",
    "    # Perform cross-validation and print the mean score\n",
    "    scores_dict = cross_validate(estimator=pipeline, X=data_filled, y=y_train, n_jobs=5, cv=5,scoring=['f1', 'accuracy', 'precision', 'recall'])\n",
    "\n",
    "    accuracies.append(scores_dict[\"test_accuracy\"])\n",
    "\n",
    "    # Print the results\n",
    "    print(f'method:{method}')\n",
    "    print(f'Average F1 Score: {np.mean(scores_dict[\"test_f1\"])}')\n",
    "    print(f'Average Accuracy: {np.mean(scores_dict[\"test_accuracy\"])}')\n",
    "    print(f'Average Precision: {np.mean(scores_dict[\"test_precision\"])}')\n",
    "    print(f'Average Recall: {np.mean(scores_dict[\"test_recall\"])}')\n",
    "    print() "
   ]
  },
  {
   "cell_type": "code",
   "execution_count": null,
   "metadata": {},
   "outputs": [
    {
     "name": "stdout",
     "output_type": "stream",
     "text": [
      "F-statistic: 0.014629377038171128\n",
      "P-value: 0.997481665611269\n",
      "There is no significant difference in means between the accuracy vectors.\n"
     ]
    }
   ],
   "source": [
    "# Perform ANOVA test to see if there is significant difference between the accuracies\n",
    "\n",
    "f_statistic, p_value = f_oneway(*accuracies)\n",
    "\n",
    "# Print the results\n",
    "print(f'F-statistic: {f_statistic}')\n",
    "print(f'P-value: {p_value}')\n",
    "\n",
    "# Check if the p-value is below the significance level (e.g., 0.05)\n",
    "if p_value < 0.05:\n",
    "    print('The means of the accuracy vectors are significantly different.')\n",
    "else:\n",
    "    print('There is no significant difference in means between the accuracy vectors.')"
   ]
  },
  {
   "cell_type": "code",
   "execution_count": null,
   "metadata": {},
   "outputs": [],
   "source": [
    "# Create new train test split with missing values filled (now that we know best method to fill)\n",
    "df_clean.fillna(0, inplace=True) \n",
    "X_train, X_test, y_train, y_test = train_test_split(df_clean, y, test_size=0.20)"
   ]
  },
  {
   "cell_type": "markdown",
   "metadata": {},
   "source": [
    "So, it doesn't matter which filling method we will use. "
   ]
  },
  {
   "cell_type": "markdown",
   "metadata": {},
   "source": [
    "### Vectorization of text (bag of words)"
   ]
  },
  {
   "cell_type": "code",
   "execution_count": 13,
   "metadata": {},
   "outputs": [],
   "source": [
    "# Putting text back in the DataFrame df_clean\n",
    "df_clean_text = df_clean.copy()\n",
    "df_clean_text[['abstract', 'description_text']] = text  \n",
    "\n",
    "# Split again\n",
    "X_train, X_test, y_train, y_test = train_test_split(df_clean_text, y, test_size=0.20, random_state=42)\n",
    "\n",
    "X_no_text = X_train.drop(['abstract', 'description_text'],  axis = 1)"
   ]
  },
  {
   "cell_type": "code",
   "execution_count": 14,
   "metadata": {},
   "outputs": [],
   "source": [
    "# Expected runtime: 30s \n",
    "\n",
    "# Tokenize the text\n",
    "tokenized_text = [word_tokenize(text) for text in X_train['abstract']]\n",
    "\n",
    "# Train Word2Vec model\n",
    "word2vec_model = Word2Vec(sentences=tokenized_text, vector_size=300, window=5, min_count=1, workers=8)\n",
    "\n",
    "# Encode abstracts using the trained Word2Vec model\n",
    "encoded_abstracts = []\n",
    "for words in tokenized_text:\n",
    "    # Take the mean of word vectors for each abstract\n",
    "    encoded_abstract = np.mean([word2vec_model.wv[word] for word in words if word in word2vec_model.wv] or [np.zeros(100)], axis=0)\n",
    "    encoded_abstracts.append(encoded_abstract)\n"
   ]
  },
  {
   "cell_type": "code",
   "execution_count": 15,
   "metadata": {},
   "outputs": [
    {
     "name": "stdout",
     "output_type": "stream",
     "text": [
      "model:Count Vectorizer\n",
      "Average F1 Score: 0.874212431816648\n",
      "Average Accuracy: 0.8908887438216917\n",
      "Average Precision: 0.8870383498914632\n",
      "Average Recall: 0.8617528613819414\n",
      "\n",
      "model:Word2Vec\n",
      "Average F1 Score: 0.873795975459388\n",
      "Average Accuracy: 0.8904457707731046\n",
      "Average Precision: 0.8859572721505038\n",
      "Average Recall: 0.8619648155998305\n",
      "\n",
      "model:TF-IDF Vectorizer\n",
      "Average F1 Score: 0.8733551834826957\n",
      "Average Accuracy: 0.8900960552084305\n",
      "Average Precision: 0.8857783805931159\n",
      "Average Recall: 0.8612759643916914\n",
      "\n"
     ]
    }
   ],
   "source": [
    "# Expected runtime: 3 minutes\n",
    "\n",
    "# Create pipeline, logist regression is used as it is our baseline model\n",
    "pipeline = Pipeline([\n",
    "    ('imputer', SimpleImputer(strategy='constant', fill_value=0)),  # Fill missing values with zero\n",
    "    ('scaler', StandardScaler(with_mean=False)), \n",
    "    ('random_forest', LogisticRegression(random_state=42, max_iter=10000))\n",
    "    ])\n",
    "\n",
    "# Define vectorizers\n",
    "vectorizers = {\n",
    "    'Count Vectorizer': CountVectorizer(max_features = 300),\n",
    "    'Word2Vec' : None,\n",
    "    'TF-IDF Vectorizer': TfidfVectorizer(max_features = 300),\n",
    "}\n",
    "\n",
    "X_train_only_text = X_train[['abstract']]\n",
    "\n",
    "# Tokenize text for Word2Vec\n",
    "tokenized_text = [word_tokenize(text) for text in X_train['abstract']]\n",
    "\n",
    "# Train Word2Vec model\n",
    "word2vec_model = Word2Vec(sentences=tokenized_text, vector_size=100, window=5, min_count=1, workers=4)\n",
    "accuracies = []\n",
    "\n",
    "# Transform text data using different vectorization methods and evaluate models\n",
    "for vectorizer_name, vectorizer in vectorizers.items():\n",
    "    if 'Word2Vec' in vectorizer_name:\n",
    "        # Use Word Embeddings (Word2Vec) for Word Embeddings model\n",
    "        X_train_transformed = np.array([np.mean([word2vec_model.wv[word] for word in words if word in word2vec_model.wv] or [np.zeros(100)], axis=0) for words in tokenized_text])\n",
    "        X_train_transformed = pd.DataFrame(X_train_transformed).reset_index(drop=True)\n",
    "    else:\n",
    "        # Use Count Vectorization or TF-IDF Vectorization for other models\n",
    "        X_train_transformed = vectorizer.fit_transform(X_train_only_text['abstract'].values)\n",
    "        X_train_transformed = pd.DataFrame(X_train_transformed.toarray()).reset_index(drop=True)\n",
    "\n",
    "    \n",
    "    X_train_transformed = pd.concat([X_no_text.reset_index(drop=True), X_train_transformed], axis=1)\n",
    "    X_train_transformed.columns = X_train_transformed.columns.astype(str) \n",
    "\n",
    "    # Evaluate the model using cross-validation\n",
    "    scores_dict = cross_validate(pipeline, X_train_transformed, y_train, cv=2, n_jobs=5, scoring=['f1', 'accuracy', 'precision', 'recall'])\n",
    "\n",
    "    # Print the mean accuracy for each combination\n",
    "    accuracies.append(scores_dict[\"test_accuracy\"])\n",
    "\n",
    "    # Print the results\n",
    "    print(f'model:{vectorizer_name}')\n",
    "    print(f'Average F1 Score: {np.mean(scores_dict[\"test_f1\"])}')\n",
    "    print(f'Average Accuracy: {np.mean(scores_dict[\"test_accuracy\"])}')\n",
    "    print(f'Average Precision: {np.mean(scores_dict[\"test_precision\"])}')\n",
    "    print(f'Average Recall: {np.mean(scores_dict[\"test_recall\"])}')\n",
    "    print() \n"
   ]
  },
  {
   "cell_type": "markdown",
   "metadata": {},
   "source": [
    "In this section we have considered a dataset made of the features and the words embedings (created with different techniques). CountVectorizer is the one that leads to the best results, but these (even if close) don't improve the baseline model. Thus in the following section we won't consider the word embeddings. <br>\n",
    "Due to computational limitation we could only compute the word embeding on the abstract (as it was shorter) and not on description_text (text description of images). In any case the abstract is probably the one with more relevant information. "
   ]
  },
  {
   "cell_type": "code",
   "execution_count": 16,
   "metadata": {},
   "outputs": [],
   "source": [
    "del X_train_transformed, encoded_abstract, word2vec_model, X_train_only_text\n",
    "del X_train, X_test, y_train, y_test, df_clean_text"
   ]
  },
  {
   "cell_type": "markdown",
   "metadata": {},
   "source": [
    "### Model selection"
   ]
  },
  {
   "cell_type": "markdown",
   "metadata": {},
   "source": [
    "IMPORTANT: while testing on PC with low RAM availability we found out that the python Kernel crushed because it didn't have enough memory. If that's the case for the following cells restart the notebook and only run \"Cleaning and baseline models\" section, then start from here. "
   ]
  },
  {
   "cell_type": "code",
   "execution_count": 17,
   "metadata": {},
   "outputs": [],
   "source": [
    "# Create new train test split with missing values filled (now that we know best method to fill)\n",
    "df_clean.fillna(0, inplace=True) \n",
    "X_train, X_test, y_train, y_test = train_test_split(df_clean, y, test_size=0.20)"
   ]
  },
  {
   "cell_type": "code",
   "execution_count": 18,
   "metadata": {},
   "outputs": [
    {
     "name": "stdout",
     "output_type": "stream",
     "text": [
      "model:Random Forest\n",
      "Average F1 Score: 0.909695419236751\n",
      "Average Accuracy: 0.9208942569371098\n",
      "Average Precision: 0.9156063269787703\n",
      "Average Recall: 0.9039132734003174\n",
      "\n",
      "model:Logistic Regression\n",
      "Average F1 Score: 0.8754993748256437\n",
      "Average Accuracy: 0.8920544593008282\n",
      "Average Precision: 0.8906762092356043\n",
      "Average Recall: 0.8608672659968271\n",
      "\n",
      "model:Neural Network\n",
      "Average F1 Score: 0.8916515581034092\n",
      "Average Accuracy: 0.9054134232411173\n",
      "Average Precision: 0.900361529505024\n",
      "Average Recall: 0.883765203595981\n",
      "\n",
      "model:Gradient Boosted Trees\n",
      "Average F1 Score: 0.8837830650168443\n",
      "Average Accuracy: 0.8996548284889732\n",
      "Average Precision: 0.9028851847397746\n",
      "Average Recall: 0.8655208884188259\n",
      "\n",
      "model:SVM\n",
      "Average F1 Score: 0.8799217282353038\n",
      "Average Accuracy: 0.8969504337384546\n",
      "Average Precision: 0.9047649194360459\n",
      "Average Recall: 0.8564251718667372\n",
      "\n"
     ]
    }
   ],
   "source": [
    "# Expected execution time: 22 minutes\n",
    "\n",
    "# Model selection\n",
    "accuracies = []\n",
    "\n",
    "pipe_step = [('imputer', SimpleImputer(strategy='constant', fill_value=0)),  # Fill missing values with zero\n",
    "    ('scaler', MinMaxScaler())]\n",
    "\n",
    "models = {\n",
    "    'Random Forest': RandomForestClassifier(random_state=42),\n",
    "    'Logistic Regression': LogisticRegression(random_state=42, max_iter=1000),\n",
    "    'Neural Network': MLPClassifier(random_state=42, max_iter=1000),\n",
    "    'Gradient Boosted Trees': GradientBoostingClassifier(random_state=42),\n",
    "    'SVM': SVC(random_state=42)\n",
    "}\n",
    "\n",
    "# Perform model selection using cross-validation\n",
    "for model_name, model in models.items():\n",
    "    \n",
    "\n",
    "    pipeline = Pipeline(pipe_step + [(model_name, model)])\n",
    "    # Print the cross-validation scores\n",
    "    scores_dict = cross_validate(estimator=pipeline, X=X_train, y=y_train, cv=5, n_jobs=5, scoring=['f1', 'accuracy', 'precision', 'recall'])\n",
    "\n",
    "    accuracies.append(scores_dict[\"test_accuracy\"])\n",
    "\n",
    "    # Print the results\n",
    "    print(f'model:{model_name}')\n",
    "    print(f'Average F1 Score: {np.mean(scores_dict[\"test_f1\"])}')\n",
    "    print(f'Average Accuracy: {np.mean(scores_dict[\"test_accuracy\"])}')\n",
    "    print(f'Average Precision: {np.mean(scores_dict[\"test_precision\"])}')\n",
    "    print(f'Average Recall: {np.mean(scores_dict[\"test_recall\"])}')\n",
    "    print() \n"
   ]
  },
  {
   "cell_type": "code",
   "execution_count": 19,
   "metadata": {},
   "outputs": [
    {
     "name": "stdout",
     "output_type": "stream",
     "text": [
      "F-statistic: 48.74186502883015\n",
      "P-value: 4.893122317602524e-10\n",
      "The means of the accuracy vectors are significantly different.\n"
     ]
    }
   ],
   "source": [
    "# Perform ANOVA test to see if there is significant difference between the accuracies\n",
    "f_statistic, p_value = f_oneway(*accuracies)\n",
    "\n",
    "# Print the results\n",
    "print(f'F-statistic: {f_statistic}')\n",
    "print(f'P-value: {p_value}')\n",
    "\n",
    "# Check if the p-value is below the significance level (e.g., 0.05)\n",
    "if p_value < 0.05:\n",
    "    print('The means of the accuracy vectors are significantly different.')\n",
    "else:\n",
    "    print('There is no significant difference in means between the accuracy vectors.')"
   ]
  },
  {
   "cell_type": "code",
   "execution_count": 20,
   "metadata": {},
   "outputs": [
    {
     "name": "stdout",
     "output_type": "stream",
     "text": [
      "The difference in accuracies between Random Forest and Logistic Regression is statistically significant.\n",
      "The difference in accuracies between Random Forest and Neural Network is statistically significant.\n",
      "The difference in accuracies between Random Forest and Gradient Boosted Trees is statistically significant.\n",
      "The difference in accuracies between Random Forest and SVM is statistically significant.\n",
      "The difference in accuracies between Logistic Regression and Neural Network is statistically significant.\n",
      "The difference in accuracies between Logistic Regression and Gradient Boosted Trees is statistically significant.\n",
      "The difference in accuracies between Logistic Regression and SVM is statistically significant.\n",
      "The difference in accuracies between Neural Network and Gradient Boosted Trees is statistically significant.\n",
      "The difference in accuracies between Neural Network and SVM is statistically significant.\n",
      "There is no statistically significant difference in accuracies between Pair SVM and Gradient Boosted Trees.\n"
     ]
    }
   ],
   "source": [
    "\n",
    "\n",
    "# Perform paired t-test for each pair of lists\n",
    "num_lists = len(accuracies)\n",
    "model_names = list(models.keys())\n",
    "\n",
    "for i in range(num_lists ):\n",
    "    for j in range(i + 1, num_lists):\n",
    "        acc_list_1 = accuracies[i]\n",
    "        acc_list_2 = accuracies[j]\n",
    "\n",
    "        # Perform paired t-test\n",
    "        t_statistic, p_value = ttest_rel(acc_list_1, acc_list_2)\n",
    "\n",
    "        # Display the results\n",
    "        # print(f\"T-statistic for Pair {i+1}-{j+1}: {t_statistic}\")\n",
    "        # print(f\"P-value for Pair {i+1}-{j+1}: {p_value}\")\n",
    "\n",
    "        # Check for statistical significance (common significance level is 0.05)\n",
    "        if p_value < 0.05:\n",
    "            print(f\"The difference in accuracies between {model_names[i]} and {model_names[j]} is statistically significant.\")\n",
    "        else:\n",
    "            print(f\"There is no statistically significant difference in accuracies between Pair {model_names[i+1]} and {model_names[j-1]}.\")"
   ]
  },
  {
   "cell_type": "markdown",
   "metadata": {},
   "source": [
    "We performed cross validation on the different models in order to determine which one was the best fit for our data. We found that the difference in accuracies between random forest and all the other models are statistically significant, thus we can conclude that Random forest is the best model among the considered ones. "
   ]
  },
  {
   "cell_type": "markdown",
   "metadata": {},
   "source": [
    "## Searching for most relevant features"
   ]
  },
  {
   "cell_type": "code",
   "execution_count": 21,
   "metadata": {},
   "outputs": [],
   "source": [
    "accuracies_features = []  # store here the accuracies of different subset of features"
   ]
  },
  {
   "cell_type": "code",
   "execution_count": 22,
   "metadata": {},
   "outputs": [
    {
     "name": "stdout",
     "output_type": "stream",
     "text": [
      "Average F1 Score: 0.9096260414739618\n",
      "Average Accuracy: 0.9208476233030762\n",
      "Average Precision: 0.9157227352504785\n",
      "Average Recall: 0.9036488630354309\n"
     ]
    }
   ],
   "source": [
    "# Baseline with all features\n",
    "accuracies_features.append(train_RF(X_train, y_train))"
   ]
  },
  {
   "cell_type": "code",
   "execution_count": 23,
   "metadata": {},
   "outputs": [
    {
     "name": "stdout",
     "output_type": "stream",
     "text": [
      "Case 1: No google embeddings\n",
      "Average F1 Score: 0.9017575930314745\n",
      "Average Accuracy: 0.914529435813473\n",
      "Average Precision: 0.914065646648433\n",
      "Average Recall: 0.8897937599153888\n",
      "\n",
      "Case 2: No future information\n",
      "Average F1 Score: 0.9093682434304281\n",
      "Average Accuracy: 0.9204978343583864\n",
      "Average Precision: 0.9140386331434543\n",
      "Average Recall: 0.9047593865679536\n",
      "\n",
      "Case 3: No vpm_patent_score\n",
      "Average F1 Score: 0.8736215093118931\n",
      "Average Accuracy: 0.8900027044192103\n",
      "Average Precision: 0.8851422805944125\n",
      "Average Recall: 0.862453728186145\n",
      "\n",
      "Case 4: No future information and vpm\n",
      "Average F1 Score: 0.8722779925435725\n",
      "Average Accuracy: 0.8887203297614036\n",
      "Average Precision: 0.8828299355171069\n",
      "Average Recall: 0.8620306716023268\n",
      "\n"
     ]
    }
   ],
   "source": [
    "# Expected execution time: 2 minutes\n",
    "\n",
    "# Case 1 - no google embeddings\n",
    "google_embeddings = ['ge_0', 'ge_1', 'ge_2', 'ge_3', 'ge_4', 'ge_5', 'ge_6', 'ge_7', 'ge_8', 'ge_9', 'ge_10', 'ge_11', 'ge_12', 'ge_13', 'ge_14', 'ge_15', 'ge_16', 'ge_17', 'ge_18', 'ge_19', 'ge_20', 'ge_21', 'ge_22', 'ge_23', 'ge_24', 'ge_25', 'ge_26', 'ge_27', 'ge_28', 'ge_29', 'ge_30', 'ge_31', 'ge_32', 'ge_33', 'ge_34', 'ge_35', 'ge_36', 'ge_37', 'ge_38', 'ge_39', 'ge_40', 'ge_41', 'ge_42', 'ge_43', 'ge_44', 'ge_45', 'ge_46', 'ge_47', 'ge_48', 'ge_49', 'ge_50', 'ge_51', 'ge_52', 'ge_53', 'ge_54', 'ge_55', 'ge_56', 'ge_57', 'ge_58', 'ge_59', 'ge_60', 'ge_61', 'ge_62', 'ge_63']\n",
    "df_no_google = modify_df(X_train, google_embeddings)\n",
    "print(\"Case 1: No google embeddings\")\n",
    "accuracies_features.append(train_RF(df_no_google, y_train))\n",
    "print()\n",
    "\n",
    "# Case 2 - no future info\n",
    "future_info = ['forward_citations','litigated', 'renewed_after_first_term', 'renewed_after_second_term', 'renewed_after_third_term', 'opposed', 'fwd_cites_same_company']\n",
    "df_no_future = modify_df(X_train, future_info)\n",
    "print(\"Case 2: No future information\")\n",
    "accuracies_features.append(train_RF(df_no_future, y_train))\n",
    "print()\n",
    "\n",
    "# Case 3 - no vpm_patent_score\n",
    "vpm_patent_score = ['vpm_patent_score']\n",
    "df_no_vpm = modify_df(X_train, vpm_patent_score)\n",
    "print(\"Case 3: No vpm_patent_score\")                                                                                                                                                                                \n",
    "accuracies_features.append(train_RF(df_no_vpm, y_train))\n",
    "print()\n",
    "\n",
    "# Case 4 - no future info\n",
    "future_info_vpm = ['vpm_patent_score', 'forward_citations','litigated', 'renewed_after_first_term', 'renewed_after_second_term', 'renewed_after_third_term', 'opposed', 'fwd_cites_same_company']\n",
    "df_no_future_vpm = modify_df(X_train, future_info_vpm)\n",
    "print(\"Case 4: No future information and vpm\")\n",
    "accuracies_features.append(train_RF(df_no_future_vpm, y_train))\n",
    "print()"
   ]
  },
  {
   "cell_type": "code",
   "execution_count": 24,
   "metadata": {},
   "outputs": [
    {
     "name": "stdout",
     "output_type": "stream",
     "text": [
      "Case 5: No company name\n",
      "Average F1 Score: 0.9093640089174363\n",
      "Average Accuracy: 0.9208708925597108\n",
      "Average Precision: 0.91842188793494\n",
      "Average Recall: 0.9005288207297726\n",
      "\n"
     ]
    }
   ],
   "source": [
    "# No company name for ethics section\n",
    "no_company = ['company_name_encoded']\n",
    "df_no_company_name = modify_df(X_train, no_company)\n",
    "print(\"Case 5: No company name\")\n",
    "train_RF(df_no_company_name, y_train)\n",
    "print()"
   ]
  },
  {
   "cell_type": "code",
   "execution_count": 25,
   "metadata": {},
   "outputs": [
    {
     "data": {
      "text/html": [
       "<style>#sk-container-id-1 {color: black;}#sk-container-id-1 pre{padding: 0;}#sk-container-id-1 div.sk-toggleable {background-color: white;}#sk-container-id-1 label.sk-toggleable__label {cursor: pointer;display: block;width: 100%;margin-bottom: 0;padding: 0.3em;box-sizing: border-box;text-align: center;}#sk-container-id-1 label.sk-toggleable__label-arrow:before {content: \"▸\";float: left;margin-right: 0.25em;color: #696969;}#sk-container-id-1 label.sk-toggleable__label-arrow:hover:before {color: black;}#sk-container-id-1 div.sk-estimator:hover label.sk-toggleable__label-arrow:before {color: black;}#sk-container-id-1 div.sk-toggleable__content {max-height: 0;max-width: 0;overflow: hidden;text-align: left;background-color: #f0f8ff;}#sk-container-id-1 div.sk-toggleable__content pre {margin: 0.2em;color: black;border-radius: 0.25em;background-color: #f0f8ff;}#sk-container-id-1 input.sk-toggleable__control:checked~div.sk-toggleable__content {max-height: 200px;max-width: 100%;overflow: auto;}#sk-container-id-1 input.sk-toggleable__control:checked~label.sk-toggleable__label-arrow:before {content: \"▾\";}#sk-container-id-1 div.sk-estimator input.sk-toggleable__control:checked~label.sk-toggleable__label {background-color: #d4ebff;}#sk-container-id-1 div.sk-label input.sk-toggleable__control:checked~label.sk-toggleable__label {background-color: #d4ebff;}#sk-container-id-1 input.sk-hidden--visually {border: 0;clip: rect(1px 1px 1px 1px);clip: rect(1px, 1px, 1px, 1px);height: 1px;margin: -1px;overflow: hidden;padding: 0;position: absolute;width: 1px;}#sk-container-id-1 div.sk-estimator {font-family: monospace;background-color: #f0f8ff;border: 1px dotted black;border-radius: 0.25em;box-sizing: border-box;margin-bottom: 0.5em;}#sk-container-id-1 div.sk-estimator:hover {background-color: #d4ebff;}#sk-container-id-1 div.sk-parallel-item::after {content: \"\";width: 100%;border-bottom: 1px solid gray;flex-grow: 1;}#sk-container-id-1 div.sk-label:hover label.sk-toggleable__label {background-color: #d4ebff;}#sk-container-id-1 div.sk-serial::before {content: \"\";position: absolute;border-left: 1px solid gray;box-sizing: border-box;top: 0;bottom: 0;left: 50%;z-index: 0;}#sk-container-id-1 div.sk-serial {display: flex;flex-direction: column;align-items: center;background-color: white;padding-right: 0.2em;padding-left: 0.2em;position: relative;}#sk-container-id-1 div.sk-item {position: relative;z-index: 1;}#sk-container-id-1 div.sk-parallel {display: flex;align-items: stretch;justify-content: center;background-color: white;position: relative;}#sk-container-id-1 div.sk-item::before, #sk-container-id-1 div.sk-parallel-item::before {content: \"\";position: absolute;border-left: 1px solid gray;box-sizing: border-box;top: 0;bottom: 0;left: 50%;z-index: -1;}#sk-container-id-1 div.sk-parallel-item {display: flex;flex-direction: column;z-index: 1;position: relative;background-color: white;}#sk-container-id-1 div.sk-parallel-item:first-child::after {align-self: flex-end;width: 50%;}#sk-container-id-1 div.sk-parallel-item:last-child::after {align-self: flex-start;width: 50%;}#sk-container-id-1 div.sk-parallel-item:only-child::after {width: 0;}#sk-container-id-1 div.sk-dashed-wrapped {border: 1px dashed gray;margin: 0 0.4em 0.5em 0.4em;box-sizing: border-box;padding-bottom: 0.4em;background-color: white;}#sk-container-id-1 div.sk-label label {font-family: monospace;font-weight: bold;display: inline-block;line-height: 1.2em;}#sk-container-id-1 div.sk-label-container {text-align: center;}#sk-container-id-1 div.sk-container {/* jupyter's `normalize.less` sets `[hidden] { display: none; }` but bootstrap.min.css set `[hidden] { display: none !important; }` so we also need the `!important` here to be able to override the default hidden behavior on the sphinx rendered scikit-learn.org. See: https://github.com/scikit-learn/scikit-learn/issues/21755 */display: inline-block !important;position: relative;}#sk-container-id-1 div.sk-text-repr-fallback {display: none;}</style><div id=\"sk-container-id-1\" class=\"sk-top-container\"><div class=\"sk-text-repr-fallback\"><pre>PCA()</pre><b>In a Jupyter environment, please rerun this cell to show the HTML representation or trust the notebook. <br />On GitHub, the HTML representation is unable to render, please try loading this page with nbviewer.org.</b></div><div class=\"sk-container\" hidden><div class=\"sk-item\"><div class=\"sk-estimator sk-toggleable\"><input class=\"sk-toggleable__control sk-hidden--visually\" id=\"sk-estimator-id-1\" type=\"checkbox\" checked><label for=\"sk-estimator-id-1\" class=\"sk-toggleable__label sk-toggleable__label-arrow\">PCA</label><div class=\"sk-toggleable__content\"><pre>PCA()</pre></div></div></div></div></div>"
      ],
      "text/plain": [
       "PCA()"
      ]
     },
     "execution_count": 25,
     "metadata": {},
     "output_type": "execute_result"
    }
   ],
   "source": [
    "# Case 5 - CPA, taking no future info as baseline as it achieved max accuracy\n",
    "data = df_no_future.copy()\n",
    "\n",
    "scaler = StandardScaler()\n",
    "scaled_data = scaler.fit_transform(data)\n",
    "\n",
    "pca = PCA()\n",
    "pca.fit(scaled_data)"
   ]
  },
  {
   "cell_type": "code",
   "execution_count": 26,
   "metadata": {},
   "outputs": [
    {
     "name": "stdout",
     "output_type": "stream",
     "text": [
      "Number of components selected: 616\n"
     ]
    }
   ],
   "source": [
    "desired_variance = 0.95\n",
    "n_components = np.argmax(np.cumsum(pca.explained_variance_ratio_) >= desired_variance) + 1\n",
    "print(\"Number of components selected:\", n_components)"
   ]
  },
  {
   "cell_type": "code",
   "execution_count": 27,
   "metadata": {},
   "outputs": [
    {
     "name": "stdout",
     "output_type": "stream",
     "text": [
      "Average F1 Score: 0.8501835705159404\n",
      "Average Accuracy: 0.8721204111467294\n",
      "Average Precision: 0.8790053978405388\n",
      "Average Recall: 0.8232681121099947\n"
     ]
    }
   ],
   "source": [
    "# Expected execution time: 2 minutes\n",
    "\n",
    "pca = PCA(n_components=627)\n",
    "principal_components = pca.fit_transform(scaled_data)\n",
    "\n",
    "# Create a DataFrame with the principal components\n",
    "pc_df = pd.DataFrame(data=principal_components)\n",
    "\n",
    "accuracies_features.append(train_RF(pc_df, y_train))"
   ]
  },
  {
   "cell_type": "code",
   "execution_count": 28,
   "metadata": {},
   "outputs": [
    {
     "name": "stdout",
     "output_type": "stream",
     "text": [
      "Explained Variance Ratio:\n",
      "[0.03407536 0.01370761]\n"
     ]
    },
    {
     "data": {
      "image/png": "[encoded data removed]",
      "text/plain": [
       "<Figure size 640x480 with 1 Axes>"
      ]
     },
     "metadata": {},
     "output_type": "display_data"
    }
   ],
   "source": [
    "# Case 5 - PCA, taking no future info as baseline as it achieved max accuracy\n",
    "data = df_no_future.copy()\n",
    "\n",
    "scaler = StandardScaler()\n",
    "scaled_data = scaler.fit_transform(data)\n",
    "\n",
    "pca = PCA(n_components=2)\n",
    "principal_components = pca.fit_transform(scaled_data)\n",
    "\n",
    "pc_df = pd.DataFrame(data=principal_components, columns=['PC1', 'PC2'])\n",
    "\n",
    "# Display the explained variance ratio\n",
    "print(\"Explained Variance Ratio:\")\n",
    "print(pca.explained_variance_ratio_)\n",
    "\n",
    "# Plot the results\n",
    "plt.scatter(pc_df['PC1'], pc_df['PC2'])\n",
    "plt.title('PCA Result')\n",
    "plt.xlabel('Principal Component 1 (PC1)')\n",
    "plt.ylabel('Principal Component 2 (PC2)')\n",
    "plt.show()"
   ]
  },
  {
   "cell_type": "code",
   "execution_count": 29,
   "metadata": {},
   "outputs": [
    {
     "name": "stdout",
     "output_type": "stream",
     "text": [
      "Average F1 Score: 0.9095933939890649\n",
      "Average Accuracy: 0.9208009978222508\n",
      "Average Precision: 0.9154529134541043\n",
      "Average Recall: 0.90386039132734\n"
     ]
    }
   ],
   "source": [
    "# Case 6 - using chi-square for feature selection\n",
    "data = df_no_future.copy()\n",
    "scaler = MinMaxScaler()\n",
    "scaled_data = scaler.fit_transform(X_train)\n",
    "\n",
    "k_best = SelectKBest(score_func=chi2, k='all')\n",
    "k_best.fit(scaled_data, y_train)\n",
    "\n",
    "selected_features_indices = k_best.get_support(indices=True)\n",
    "\n",
    "x_train_selected = k_best.transform(scaled_data)\n",
    "\n",
    "accuracies_features.append(train_RF(x_train_selected, y_train))\n"
   ]
  },
  {
   "cell_type": "code",
   "execution_count": 30,
   "metadata": {},
   "outputs": [
    {
     "name": "stdout",
     "output_type": "stream",
     "text": [
      "F-statistic: 135.52685886650093\n",
      "P-value: 2.3103257598971485e-19\n",
      "The means of the accuracy vectors are significantly different.\n"
     ]
    }
   ],
   "source": [
    "# Perform ANOVA test to see if there is significant difference between the accuracies\n",
    "f_statistic, p_value = f_oneway(*accuracies_features)\n",
    "\n",
    "# Print the results\n",
    "print(f'F-statistic: {f_statistic}')\n",
    "print(f'P-value: {p_value}')\n",
    "\n",
    "# Check if the p-value is below the significance level (e.g., 0.05)\n",
    "if p_value < 0.05:\n",
    "    print('The means of the accuracy vectors are significantly different.')\n",
    "else:\n",
    "    print('There is no significant difference in means between the accuracy vectors.')"
   ]
  },
  {
   "cell_type": "code",
   "execution_count": 31,
   "metadata": {},
   "outputs": [
    {
     "name": "stdout",
     "output_type": "stream",
     "text": [
      "Statistical test for difference between baseline accuracies and reduced features accuracies\n",
      "\n",
      "P-value for baseline and no google embeddings: 4.091997672657403e-05\n",
      "The difference in accuracies between baseline and no google embeddings is statistically significant.\n",
      "\n",
      "P-value for baseline and no future information: 0.7426592912634836\n",
      "There is no statistically significant difference in accuracies between Pair baseline and no future information.\n",
      "\n",
      "P-value for baseline and No vpm_patent_score: 8.519369849033794e-05\n",
      "The difference in accuracies between baseline and No vpm_patent_score is statistically significant.\n",
      "\n",
      "P-value for baseline and no future info and vppm: 2.6471737804255893e-05\n",
      "The difference in accuracies between baseline and no future info and vppm is statistically significant.\n",
      "\n",
      "P-value for baseline and PCA: 618 features: 1.1975626266195266e-05\n",
      "The difference in accuracies between baseline and PCA: 618 features is statistically significant.\n",
      "\n",
      "P-value for baseline and chi-square feature selection: 0.717431281226451\n",
      "There is no statistically significant difference in accuracies between Pair baseline and chi-square feature selection.\n",
      "\n",
      "P-value for no google embeddings and no future information: 0.0033704133621415347\n",
      "The difference in accuracies between no google embeddings and no future information is statistically significant.\n",
      "\n",
      "P-value for no google embeddings and No vpm_patent_score: 0.00016569754032475\n",
      "The difference in accuracies between no google embeddings and No vpm_patent_score is statistically significant.\n",
      "\n",
      "P-value for no google embeddings and no future info and vppm: 8.189667350004308e-05\n",
      "The difference in accuracies between no google embeddings and no future info and vppm is statistically significant.\n",
      "\n",
      "P-value for no google embeddings and PCA: 618 features: 3.0212004921906075e-05\n",
      "The difference in accuracies between no google embeddings and PCA: 618 features is statistically significant.\n",
      "\n",
      "P-value for no google embeddings and chi-square feature selection: 8.663771741671846e-05\n",
      "The difference in accuracies between no google embeddings and chi-square feature selection is statistically significant.\n",
      "\n",
      "P-value for no future information and No vpm_patent_score: 2.157071671761414e-05\n",
      "The difference in accuracies between no future information and No vpm_patent_score is statistically significant.\n",
      "\n",
      "P-value for no future information and no future info and vppm: 3.7982009887430293e-06\n",
      "The difference in accuracies between no future information and no future info and vppm is statistically significant.\n",
      "\n",
      "P-value for no future information and PCA: 618 features: 3.959480685851177e-06\n",
      "The difference in accuracies between no future information and PCA: 618 features is statistically significant.\n",
      "\n",
      "P-value for no future information and chi-square feature selection: 0.7888009361824411\n",
      "There is no statistically significant difference in accuracies between Pair no future information and chi-square feature selection.\n",
      "\n",
      "P-value for No vpm_patent_score and no future info and vppm: 0.3892821343947574\n",
      "There is no statistically significant difference in accuracies between Pair No vpm_patent_score and no future info and vppm.\n",
      "\n",
      "P-value for No vpm_patent_score and PCA: 618 features: 0.001594547990342314\n",
      "The difference in accuracies between No vpm_patent_score and PCA: 618 features is statistically significant.\n",
      "\n",
      "P-value for No vpm_patent_score and chi-square feature selection: 0.00010031632907432224\n",
      "The difference in accuracies between No vpm_patent_score and chi-square feature selection is statistically significant.\n",
      "\n",
      "P-value for no future info and vppm and PCA: 618 features: 0.00012219296321783714\n",
      "The difference in accuracies between no future info and vppm and PCA: 618 features is statistically significant.\n",
      "\n",
      "P-value for no future info and vppm and chi-square feature selection: 3.156508888149367e-05\n",
      "The difference in accuracies between no future info and vppm and chi-square feature selection is statistically significant.\n",
      "\n",
      "P-value for PCA: 618 features and chi-square feature selection: 1.2406911696993566e-05\n",
      "The difference in accuracies between PCA: 618 features and chi-square feature selection is statistically significant.\n",
      "\n"
     ]
    }
   ],
   "source": [
    "# pairwise statistical difference of accuracies between different set of features\n",
    "\n",
    "feature_selection_type = ['baseline', 'no google embeddings', 'no future information', 'No vpm_patent_score', 'no future info and vppm', 'PCA: 618 features', 'chi-square feature selection']\n",
    "\n",
    "\n",
    "print('Statistical test for difference between baseline accuracies and reduced features accuracies')\n",
    "print()\n",
    "\n",
    "# Perform paired t-test for each pair of lists\n",
    "num_lists = len(accuracies_features)\n",
    "\n",
    "for i in range(num_lists - 1):\n",
    "    for j in range(i + 1, num_lists):\n",
    "        acc_list_1 = accuracies_features[i]\n",
    "        acc_list_2 = accuracies_features[j]\n",
    "\n",
    "        # Perform paired t-test\n",
    "        t_statistic, p_value = ttest_rel(acc_list_1, acc_list_2)\n",
    "\n",
    "        # Display the results\n",
    "        # print(f\"T-statistic for Pair {i+1}-{j+1}: {t_statistic}\")\n",
    "        print(f\"P-value for {feature_selection_type[i]} and {feature_selection_type[j]}: {p_value}\")\n",
    "\n",
    "        # Check for statistical significance (common significance level is 0.05)\n",
    "        if p_value < 0.05:\n",
    "            print(f\"The difference in accuracies between {feature_selection_type[i]} and {feature_selection_type[j]} is statistically significant.\")\n",
    "        else:\n",
    "            print(f\"There is no statistically significant difference in accuracies between Pair {feature_selection_type[i]} and {feature_selection_type[j]}.\")\n",
    "\n",
    "        print()\n",
    "    "
   ]
  },
  {
   "cell_type": "code",
   "execution_count": 32,
   "metadata": {},
   "outputs": [
    {
     "name": "stdout",
     "output_type": "stream",
     "text": [
      "baseline 0.9208476233030762\n",
      "no google embeddings 0.914529435813473\n",
      "no future information 0.9204978343583864\n",
      "No vpm_patent_score 0.8900027044192103\n",
      "no future info and vppm 0.8887203297614036\n",
      "PCA: 618 features 0.8721204111467294\n",
      "chi-square feature selection 0.9208009978222508\n"
     ]
    }
   ],
   "source": [
    "for name, accuracy in zip(feature_selection_type, accuracies_features): \n",
    "    print(name, np.mean(accuracy))"
   ]
  },
  {
   "cell_type": "markdown",
   "metadata": {},
   "source": [
    "In the following analysis we won't consider \"chi-square feature selection\" as that didn't drop any feature. <br>\n",
    "Some differences between accuraccies are statistically, but not all of them. The interesting thing to notice is that the regularization that comes from dropping a certain subset of features doesn't lead to an improvement in performances.<br>\n",
    "Removing google embedings and future information didn't lead to any statistical significant reduction in the accuracy which means that these information aren't of central importance for predicting commercialization"
   ]
  },
  {
   "cell_type": "code",
   "execution_count": 33,
   "metadata": {},
   "outputs": [
    {
     "name": "stdout",
     "output_type": "stream",
     "text": [
      "0.9293174188735547\n"
     ]
    },
    {
     "data": {
      "image/png": "[encoded data removed]",
      "text/plain": [
       "<Figure size 640x480 with 1 Axes>"
      ]
     },
     "metadata": {},
     "output_type": "display_data"
    }
   ],
   "source": [
    "# plot 30 most important features when all features are taken into consideration\n",
    "\n",
    "plot_features_importance(X_train, X_test, y_train, y_test, [])"
   ]
  },
  {
   "cell_type": "code",
   "execution_count": 34,
   "metadata": {},
   "outputs": [
    {
     "name": "stdout",
     "output_type": "stream",
     "text": [
      "0.8996643043640433\n"
     ]
    },
    {
     "data": {
      "image/png": "[encoded data removed]",
      "text/plain": [
       "<Figure size 640x480 with 1 Axes>"
      ]
     },
     "metadata": {},
     "output_type": "display_data"
    }
   ],
   "source": [
    "# plot 30 most important features when without VPM score\n",
    "\n",
    "plot_features_importance(df_no_vpm, X_test, y_train, y_test, vpm_patent_score)"
   ]
  },
  {
   "cell_type": "code",
   "execution_count": 35,
   "metadata": {},
   "outputs": [
    {
     "name": "stdout",
     "output_type": "stream",
     "text": [
      "0.9243752331219695\n"
     ]
    },
    {
     "data": {
      "image/png": "[encoded data removed]",
      "text/plain": [
       "<Figure size 640x480 with 1 Axes>"
      ]
     },
     "metadata": {},
     "output_type": "display_data"
    }
   ],
   "source": [
    "# plot 30 most important features when without google embedings\n",
    "plot_features_importance(df_no_google, X_test, y_train, y_test, google_embeddings)"
   ]
  },
  {
   "cell_type": "code",
   "execution_count": 36,
   "metadata": {},
   "outputs": [
    {
     "name": "stdout",
     "output_type": "stream",
     "text": [
      "0.8976128310331966\n"
     ]
    },
    {
     "data": {
      "image/png": "[encoded data removed]",
      "text/plain": [
       "<Figure size 640x480 with 1 Axes>"
      ]
     },
     "metadata": {},
     "output_type": "display_data"
    }
   ],
   "source": [
    "# withouth future information and VPM scores\n",
    "\n",
    "plot_features_importance(df_no_future_vpm, X_test, y_train, y_test, future_info_vpm)"
   ]
  },
  {
   "cell_type": "markdown",
   "metadata": {},
   "source": [
    "## BERT to encode abstracts"
   ]
  },
  {
   "cell_type": "code",
   "execution_count": 37,
   "metadata": {},
   "outputs": [],
   "source": [
    "# Define your dataset class\n",
    "class CustomDataset(Dataset):\n",
    "    def __init__(self, features, texts, labels, tokenizer, max_length):\n",
    "        self.features = features\n",
    "        self.texts = texts\n",
    "        self.labels = labels\n",
    "        self.tokenizer = tokenizer\n",
    "        self.max_length = max_length\n",
    "\n",
    "    def __len__(self):\n",
    "        return len(self.features)\n",
    "\n",
    "    def __getitem__(self, idx):\n",
    "        text = list(self.texts.iloc[idx])\n",
    "        label = int(self.labels[idx])\n",
    "\n",
    "        # tokenize text of interest\n",
    "        encoding = self.tokenizer(text, truncation=True, padding='max_length', max_length=self.max_length, return_tensors='pt')\n",
    "        \n",
    "        return {\n",
    "            'features': torch.tensor(self.features.iloc[idx]),\n",
    "            'input_ids': encoding['input_ids'].flatten(),\n",
    "            'attention_mask': encoding['attention_mask'].flatten(),\n",
    "            'label': torch.tensor(label, dtype=torch.long)\n",
    "        }\n",
    "\n",
    "\n",
    "class CustomBERTClassifier(torch.nn.Module):\n",
    "    def __init__(self, num_classes, feature_dim):\n",
    "        super(CustomBERTClassifier, self).__init__()\n",
    "        self.bert = BertModel.from_pretrained('bert-base-uncased', num_labels=num_classes)\n",
    "        \n",
    "        # Freeze all BERT layers except the last three\n",
    "        for param in self.bert.parameters():\n",
    "            param.requires_grad = False\n",
    "\n",
    "        # unfreeze last encoder layer\n",
    "        for param in self.bert.encoder.layer[-1:].parameters():\n",
    "            param.requires_grad = True\n",
    "            \n",
    "        self.fc = torch.nn.Linear(feature_dim + self.bert.config.hidden_size, 128)  \n",
    "        self.final_layer = torch.nn.Linear(128, num_classes)\n",
    "\n",
    "    def forward(self, input_ids, attention_mask, features):\n",
    "        outputs = self.bert(input_ids, attention_mask=attention_mask)\n",
    "        pooled_output = outputs.pooler_output\n",
    "\n",
    "        # Concatenate BERT output with additional features\n",
    "        combined_features = torch.cat([pooled_output, features], dim=1)\n",
    "\n",
    "        # Fully connected layer\n",
    "        combined_features = torch.relu(self.fc(combined_features))\n",
    "\n",
    "        # Final classification layer\n",
    "        logits = self.final_layer(combined_features)\n",
    "\n",
    "        return logits"
   ]
  },
  {
   "cell_type": "code",
   "execution_count": 38,
   "metadata": {},
   "outputs": [],
   "source": [
    "df_clean[['abstract', 'description_text']] = text  # incorporate text\n",
    "df_clean.fillna(0, inplace=True)\n",
    "X_train, X_test, y_train, y_test = train_test_split(df_clean, y, test_size=0.20, random_state=42)"
   ]
  },
  {
   "cell_type": "code",
   "execution_count": 39,
   "metadata": {},
   "outputs": [
    {
     "name": "stdout",
     "output_type": "stream",
     "text": [
      "loaded\n"
     ]
    }
   ],
   "source": [
    "# load model\n",
    "\n",
    "device = torch.device(\"cuda\" if torch.cuda.is_available() else \"cpu\")\n",
    "# device  = 'cpu'\n",
    "\n",
    "# Set up your data and model\n",
    "tokenizer = BertTokenizer.from_pretrained('bert-base-uncased')\n",
    "max_length = 128  # Adjust as needed\n",
    "num_classes = 2  # Binary classification\n",
    "\n",
    "# reset indexes, otherwise it doesn't work\n",
    "X_train.reset_index(drop=True, inplace=True)\n",
    "y_train.reset_index(drop=True, inplace=True)\n",
    "\n",
    "features = X_train.drop(['abstract', 'description_text'], axis = 1)\n",
    "\n",
    "# only using abstract as text description doesn't seem too useful and would slow down training\n",
    "texts = X_train[['abstract']]   \n",
    "\n",
    "scaler = StandardScaler()\n",
    "features = pd.DataFrame(scaler.fit_transform(features))\n",
    "\n",
    "# instanciate dataset and dataloader\n",
    "dataset = CustomDataset(features, texts, y_train, tokenizer, max_length)\n",
    "dataloader = DataLoader(dataset, batch_size=32, shuffle=True)\n",
    " \n",
    "model = CustomBERTClassifier(num_classes, len(features.columns))\n",
    "model.to(device)  # Move the model to GPU if available\n",
    " \n",
    "print('loaded')"
   ]
  },
  {
   "cell_type": "code",
   "execution_count": 40,
   "metadata": {},
   "outputs": [
    {
     "name": "stdout",
     "output_type": "stream",
     "text": [
      "Number of trainable parameters in the model: 7294594 out of 109688962 total parameter\n"
     ]
    }
   ],
   "source": [
    "num_trainable_params = sum(p.numel() for p in model.parameters() if p.requires_grad)\n",
    "tot_params = sum(p.numel() for p in model.parameters())\n",
    "\n",
    "print(\"Number of trainable parameters in the model:\", num_trainable_params, f'out of {tot_params} total parameter')"
   ]
  },
  {
   "cell_type": "code",
   "execution_count": 41,
   "metadata": {},
   "outputs": [],
   "source": [
    "\n",
    "\n",
    "if os.path.isfile('models/bert_trained.pth'): \n",
    "    model = torch.load('models/bert_trained.pth')\n",
    "    model.to(device) \n",
    "\n",
    "else: \n",
    "\n",
    "    losses = []\n",
    "    optimizer = AdamW(model.parameters(), lr=3e-5)\n",
    "\n",
    "    num_epochs = 12 # Adjust as needed\n",
    "\n",
    "    for epoch in range(num_epochs):\n",
    "        # print('epoch:', epoch)\n",
    "        model.train()\n",
    "\n",
    "        # Iterate through batches in the data loader\n",
    "        for num, batch in enumerate(dataloader):\n",
    "            input_ids = batch['input_ids'].to(device)\n",
    "            attention_mask = batch['attention_mask'].to(device)\n",
    "            features = batch['features'].to(device)\n",
    "            labels = batch['label'].to(device)\n",
    "\n",
    "            optimizer.zero_grad()\n",
    "\n",
    "            features = features.to(torch.float32)       \n",
    "\n",
    "            # Forward pass through the model\n",
    "            outputs = model(input_ids, attention_mask=attention_mask, features=features)\n",
    "\n",
    "            # Compute the cross-entropy loss\n",
    "            loss = torch.nn.functional.cross_entropy(outputs, labels)\n",
    "\n",
    "            # Append the loss to the list for later analysis\n",
    "            losses.append(loss.item())\n",
    "\n",
    "            # Backward pass and optimization step\n",
    "            loss.backward()\n",
    "            optimizer.step()    \n",
    "\n",
    "            # Explicitly release memory to prevent RAM overflow\n",
    "            del input_ids, attention_mask, features, labels, outputs, loss\n",
    "\n",
    "    plt.plot(pd.Series(losses).rolling(20, min_periods=1).sum())\n",
    "    plt.xlabel('iterations')\n",
    "    plt.ylabel('cross entropy loss')"
   ]
  },
  {
   "cell_type": "code",
   "execution_count": 42,
   "metadata": {},
   "outputs": [],
   "source": [
    "# Expected execution time: 1 minutes\n",
    "# Evaluation\n",
    "\n",
    "# Reset index to ensure correct alignment\n",
    "X_test.reset_index(drop=True, inplace=True)\n",
    "y_test.reset_index(drop=True, inplace=True)\n",
    "\n",
    "# Extract features and texts for testing\n",
    "features_test = X_test.drop(['abstract', 'description_text'], axis = 1)\n",
    "texts_test = X_test[['abstract']]\n",
    "\n",
    "# Standardize numerical features\n",
    "scaler = StandardScaler()\n",
    "features_test = pd.DataFrame(scaler.fit_transform(features_test))\n",
    "\n",
    "# Create a dataset and dataloader for testing\n",
    "test_dataset = CustomDataset(features_test, texts_test, y_test, tokenizer, max_length)\n",
    "dataloader_test = DataLoader(test_dataset, batch_size=32) # withour shuflling in order to have prediction in the right order\n",
    "\n",
    "# Predictions\n",
    "y_pred = []\n",
    "\n",
    "with torch.no_grad():\n",
    "    for num, batch in enumerate(dataloader_test): \n",
    "        input_ids = batch['input_ids'].to(device)\n",
    "        attention_mask = batch['attention_mask'].to(device)\n",
    "        features = batch['features'].to(device)\n",
    "        labels = batch['label'].to(device)\n",
    "\n",
    "        features = features.to(torch.float32)   \n",
    "        y_pred.append(model(input_ids, attention_mask =attention_mask, features=features))\n",
    "\n",
    "        # Explicitly release memory to prevent RAM overflow\n",
    "        del input_ids, attention_mask, features, labels\n"
   ]
  },
  {
   "cell_type": "code",
   "execution_count": 43,
   "metadata": {},
   "outputs": [],
   "source": [
    "final_pred = []\n",
    "\n",
    "for pred in y_pred: \n",
    "    final_pred.extend(pred.argmax(dim= 1).to('cpu').tolist())"
   ]
  },
  {
   "cell_type": "code",
   "execution_count": 44,
   "metadata": {},
   "outputs": [
    {
     "name": "stdout",
     "output_type": "stream",
     "text": [
      "accuracy 0.9034875046624394\n",
      "precision 0.9023256416086907\n",
      "recall 0.9022067255795464\n",
      "f1 0.9022657855095129\n"
     ]
    }
   ],
   "source": [
    "\n",
    "\n",
    "# print('f1-score', f1_score(y_test, final_pred))\n",
    "precision, recall, f_score, support = precision_recall_fscore_support(y_test, final_pred, average='macro')\n",
    "print('accuracy', (final_pred == y_test).sum() / len(y_test))\n",
    "print('precision', precision)\n",
    "print('recall', recall)\n",
    "print('f1', f_score)"
   ]
  },
  {
   "cell_type": "code",
   "execution_count": 45,
   "metadata": {},
   "outputs": [],
   "source": [
    "# save model if it didn't exists\n",
    "if not os.path.isfile('models/bert_trained.pth'): \n",
    "    torch.save(model, 'models/bert_trained.pth')"
   ]
  },
  {
   "cell_type": "markdown",
   "metadata": {},
   "source": [
    "# BERT without google embedings"
   ]
  },
  {
   "cell_type": "code",
   "execution_count": 46,
   "metadata": {},
   "outputs": [
    {
     "name": "stdout",
     "output_type": "stream",
     "text": [
      "loaded\n"
     ]
    }
   ],
   "source": [
    "# load model\n",
    "df_clean[['abstract', 'description_text']] = text  # incorporate text\n",
    "df_clean.fillna(0, inplace=True)\n",
    "df_no_google = modify_df(df_clean, google_embeddings)\n",
    "\n",
    "X_train, X_test, y_train, y_test = train_test_split(df_no_google, y, test_size=0.20, random_state=42)\n",
    "\n",
    "device = torch.device(\"cuda\" if torch.cuda.is_available() else \"cpu\")\n",
    "# device  = 'cpu'\n",
    "\n",
    "# Set up your data and model\n",
    "tokenizer = BertTokenizer.from_pretrained('bert-base-uncased')\n",
    "max_length = 128  # Adjust as needed\n",
    "num_classes = 2  # Binary classification\n",
    "\n",
    "# reset indexes, otherwise it doesn't work\n",
    "X_train.reset_index(drop=True, inplace=True)\n",
    "y_train.reset_index(drop=True, inplace=True)\n",
    "\n",
    "features = X_train.drop(['abstract', 'description_text'], axis = 1)\n",
    "\n",
    "# only using abstract as text description doesn't seem too useful and would slow down training\n",
    "texts = X_train[['abstract']]   \n",
    "\n",
    "scaler = StandardScaler()\n",
    "features = pd.DataFrame(scaler.fit_transform(features))\n",
    "\n",
    "# instanciate dataset and dataloader\n",
    "dataset = CustomDataset(features, texts, y_train, tokenizer, max_length)\n",
    "dataloader = DataLoader(dataset, batch_size=32, shuffle=True)\n",
    "\n",
    "print('loaded')\n"
   ]
  },
  {
   "cell_type": "code",
   "execution_count": 47,
   "metadata": {},
   "outputs": [
    {
     "name": "stdout",
     "output_type": "stream",
     "text": [
      "using saved parameters\n"
     ]
    }
   ],
   "source": [
    "# training bert without google embedings\n",
    "\n",
    "if os.path.isfile('models/bert_trained_no_ge.pth'): \n",
    "    print('using saved parameters')\n",
    "    model = torch.load('models/bert_trained_no_ge.pth')\n",
    "    model.to(device) \n",
    "\n",
    "else: \n",
    "    print('training from scratch')\n",
    "    losses = []\n",
    "    optimizer = AdamW(model.parameters(), lr=3e-5)\n",
    "\n",
    "    num_epochs = 12 # Adjust as needed\n",
    "\n",
    "    for epoch in range(num_epochs):\n",
    "        print('epoch:', epoch)\n",
    "        model.train()\n",
    "\n",
    "        # Iterate through batches in the data loader\n",
    "        for num, batch in enumerate(dataloader):\n",
    "            input_ids = batch['input_ids'].to(device)\n",
    "            attention_mask = batch['attention_mask'].to(device)\n",
    "            features = batch['features'].to(device)\n",
    "            labels = batch['label'].to(device)\n",
    "\n",
    "            optimizer.zero_grad()\n",
    "\n",
    "            features = features.to(torch.float32)       \n",
    "\n",
    "            # Forward pass through the model\n",
    "            outputs = model(input_ids, attention_mask=attention_mask, features=features)\n",
    "\n",
    "            # Compute the cross-entropy loss\n",
    "            loss = torch.nn.functional.cross_entropy(outputs, labels)\n",
    "\n",
    "            # Append the loss to the list for later analysis\n",
    "            losses.append(loss.item())\n",
    "\n",
    "            # Backward pass and optimization step\n",
    "            loss.backward()\n",
    "            optimizer.step()    \n",
    "\n",
    "            # Explicitly release memory to prevent RAM overflow\n",
    "            del input_ids, attention_mask, features, labels, outputs, loss\n",
    "\n",
    "    plt.plot(pd.Series(losses).rolling(20, min_periods=1).sum())\n",
    "    plt.xlabel('iterations')\n",
    "    plt.ylabel('cross entropy loss')"
   ]
  },
  {
   "cell_type": "code",
   "execution_count": 48,
   "metadata": {},
   "outputs": [],
   "source": [
    "# Expected execution time: 2 minutes\n",
    "# Evaluation\n",
    "\n",
    "# Reset index to ensure correct alignment\n",
    "X_test.reset_index(drop=True, inplace=True)\n",
    "y_test.reset_index(drop=True, inplace=True)\n",
    "\n",
    "\n",
    "# Extract features and texts for testing\n",
    "features_test = X_test.drop(['abstract', 'description_text'], axis = 1)\n",
    "texts_test = X_test[['abstract']]\n",
    "\n",
    "# Standardize numerical features\n",
    "scaler = StandardScaler()\n",
    "features_test = pd.DataFrame(scaler.fit_transform(features_test))\n",
    "\n",
    "# Create a dataset and dataloader for testing\n",
    "test_dataset = CustomDataset(features_test, texts_test, y_test, tokenizer, max_length)\n",
    "dataloader_test = DataLoader(test_dataset, batch_size=32) # withour shuflling in order to have prediction in the right order\n",
    "\n",
    "# Predictions\n",
    "y_pred = []\n",
    "\n",
    "with torch.no_grad():\n",
    "    for num, batch in enumerate(dataloader_test): \n",
    "        input_ids = batch['input_ids'].to(device)\n",
    "        attention_mask = batch['attention_mask'].to(device)\n",
    "        features = batch['features'].to(device)\n",
    "        labels = batch['label'].to(device)\n",
    "\n",
    "        features = features.to(torch.float32)   \n",
    "        y_pred.append(model(input_ids, attention_mask =attention_mask, features=features))\n",
    "\n",
    "        # Explicitly release memory to prevent RAM overflow\n",
    "        del input_ids, attention_mask, features, labels\n"
   ]
  },
  {
   "cell_type": "code",
   "execution_count": 49,
   "metadata": {},
   "outputs": [
    {
     "name": "stdout",
     "output_type": "stream",
     "text": [
      "accuracy 0.9002237970906378\n",
      "precision 0.8983285948569047\n",
      "recall 0.9007177392397221\n",
      "f1 0.8993020714953291\n"
     ]
    }
   ],
   "source": [
    "final_pred = []\n",
    "\n",
    "for pred in y_pred: \n",
    "    final_pred.extend(pred.argmax(dim= 1).to('cpu').tolist())\n",
    "\n",
    "# print('f1-score', f1_score(y_test, final_pred))\n",
    "precision, recall, f_score, support = precision_recall_fscore_support(y_test, final_pred, average='macro')\n",
    "print('accuracy', (final_pred == y_test).sum() / len(y_test))\n",
    "print('precision', precision)\n",
    "print('recall', recall)\n",
    "print('f1', f_score)"
   ]
  },
  {
   "cell_type": "code",
   "execution_count": 50,
   "metadata": {},
   "outputs": [],
   "source": [
    "# save model if it didn't exists\n",
    "if not os.path.isfile('models/bert_trained_no_ge.pth'): \n",
    "    torch.save(model, 'models/bert_trained_no_ge.pth')"
   ]
  }
 ],
 "metadata": {
  "kernelspec": {
   "display_name": "base",
   "language": "python",
   "name": "python3"
  },
  "language_info": {
   "codemirror_mode": {
    "name": "ipython",
    "version": 3
   },
   "file_extension": ".py",
   "mimetype": "text/x-python",
   "name": "python",
   "nbconvert_exporter": "python",
   "pygments_lexer": "ipython3",
   "version": "3.10.13"
  }
 },
 "nbformat": 4,
 "nbformat_minor": 2
}
