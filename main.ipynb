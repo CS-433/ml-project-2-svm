{
 "cells": [
  {
   "cell_type": "code",
   "execution_count": 3,
   "metadata": {},
   "outputs": [
    {
     "name": "stdout",
     "output_type": "stream",
     "text": [
      "The autoreload extension is already loaded. To reload it, use:\n",
      "  %reload_ext autoreload\n"
     ]
    }
   ],
   "source": [
    "%load_ext autoreload\n",
    "%autoreload 2\n",
    "\n",
    "from sklearn.linear_model import LogisticRegression\n",
    "from sklearn.preprocessing import StandardScaler\n",
    "from sklearn.model_selection import train_test_split\n",
    "from sklearn.preprocessing import MinMaxScaler\n",
    "from sklearn.feature_extraction.text import TfidfVectorizer\n",
    "import matplotlib.pyplot as plt\n",
    "from sklearn.model_selection import cross_val_score, train_test_split\n",
    "from sklearn.ensemble import RandomForestClassifier, GradientBoostingClassifier\n",
    "from sklearn.linear_model import LogisticRegression\n",
    "from sklearn.neural_network import MLPClassifier\n",
    "from sklearn.svm import SVC\n",
    "from scipy.stats import f_oneway\n",
    "from sklearn.model_selection import train_test_split\n",
    "from sklearn.naive_bayes import MultinomialNB\n",
    "from sklearn.pipeline import Pipeline\n",
    "from sklearn.impute import SimpleImputer\n",
    "from sklearn.model_selection import cross_validate\n",
    "import numpy as np\n",
    "import pandas as pd\n",
    "from sklearn.feature_selection import SelectKBest\n",
    "from sklearn.feature_selection import chi2\n",
    "from sklearn.model_selection import cross_val_score, train_test_split\n",
    "from sklearn.feature_extraction.text import CountVectorizer, TfidfVectorizer\n",
    "from sklearn.decomposition import PCA\n",
    "from sklearn.compose import ColumnTransformer\n",
    "from sklearn.preprocessing import StandardScaler\n",
    "import matplotlib.pyplot as plt\n",
    "from sklearn.ensemble import RandomForestClassifier\n",
    "from gensim.models import Word2Vec\n",
    "from nltk.tokenize import word_tokenize  # You may need to install nltk and download punkt\n",
    "from sklearn.model_selection import cross_val_score\n",
    "from sklearn.metrics import make_scorer, accuracy_score, precision_score, recall_score, f1_score\n",
    "from sklearn.preprocessing import StandardScaler\n",
    "from sklearn.metrics import accuracy_score\n",
    "from sklearn.decomposition import PCA\n",
    "from sklearn.preprocessing import StandardScaler\n",
    "import matplotlib.pyplot as plt\n",
    "from utilities import *\n",
    "from sklearn.feature_selection import f_classif\n",
    "\n",
    "# import torch\n",
    "# import torch.nn as nn\n",
    "# import torch.optim as optim\n",
    "# from torch.utils.data import DataLoader, TensorDataset\n",
    "# from transformers import BertTokenizer, BertForSequenceClassification, AdamW"
   ]
  },
  {
   "cell_type": "code",
   "execution_count": 5,
   "metadata": {},
   "outputs": [],
   "source": [
    "# pick full or smaller version of dataset\n",
    "df = pd.read_csv('modelready_220423.csv')"
   ]
  },
  {
   "cell_type": "markdown",
   "metadata": {},
   "source": [
    "## Cleaning and baseline models"
   ]
  },
  {
   "cell_type": "code",
   "execution_count": 6,
   "metadata": {},
   "outputs": [
    {
     "name": "stdout",
     "output_type": "stream",
     "text": [
      "tot columns = 772, numeric type columns = 765\n"
     ]
    },
    {
     "data": {
      "text/html": [
       "<div>\n",
       "<style scoped>\n",
       "    .dataframe tbody tr th:only-of-type {\n",
       "        vertical-align: middle;\n",
       "    }\n",
       "\n",
       "    .dataframe tbody tr th {\n",
       "        vertical-align: top;\n",
       "    }\n",
       "\n",
       "    .dataframe thead th {\n",
       "        text-align: right;\n",
       "    }\n",
       "</style>\n",
       "<table border=\"1\" class=\"dataframe\">\n",
       "  <thead>\n",
       "    <tr style=\"text-align: right;\">\n",
       "      <th></th>\n",
       "      <th>publication_number</th>\n",
       "      <th>company_name</th>\n",
       "      <th>countries_in_family</th>\n",
       "      <th>publn_nr</th>\n",
       "      <th>primary_cpc</th>\n",
       "      <th>abstract</th>\n",
       "      <th>description_text</th>\n",
       "    </tr>\n",
       "  </thead>\n",
       "  <tbody>\n",
       "    <tr>\n",
       "      <th>0</th>\n",
       "      <td>US-8623043-B1</td>\n",
       "      <td>Entellus Medical, Inc.</td>\n",
       "      <td>['AU' 'EP' 'CA' 'US']</td>\n",
       "      <td>8623043</td>\n",
       "      <td>A61M29/02</td>\n",
       "      <td>A method of treating a constricted sinus passa...</td>\n",
       "      <td>RELATED APPLICATIONS \\n     This Application i...</td>\n",
       "    </tr>\n",
       "  </tbody>\n",
       "</table>\n",
       "</div>"
      ],
      "text/plain": [
       "  publication_number            company_name    countries_in_family publn_nr  \\\n",
       "0      US-8623043-B1  Entellus Medical, Inc.  ['AU' 'EP' 'CA' 'US']  8623043   \n",
       "\n",
       "  primary_cpc                                           abstract  \\\n",
       "0   A61M29/02  A method of treating a constricted sinus passa...   \n",
       "\n",
       "                                    description_text  \n",
       "0  RELATED APPLICATIONS \\n     This Application i...  "
      ]
     },
     "execution_count": 6,
     "metadata": {},
     "output_type": "execute_result"
    }
   ],
   "source": [
    "# print non-numerical columns\n",
    "numerics = ['int16', 'int32', 'int64', 'float16', 'float32', 'float64']\n",
    "print(f'tot columns = {len(df.columns)}, numeric type columns = {len(df.select_dtypes(include=numerics).columns)}' ) # not too many non-numeric columns\n",
    "df.select_dtypes(include = ['object']).head(1)  "
   ]
  },
  {
   "cell_type": "code",
   "execution_count": 7,
   "metadata": {},
   "outputs": [],
   "source": [
    "# extract unique countries in the df\n",
    "unique_values = set()\n",
    "df['countries_in_family'].apply(lambda x: unique_values.update(x.strip(\"[]\").replace(\"'\", \"\").split())) \n",
    "\n",
    "# Create new columns for each unique value\n",
    "for value in unique_values:\n",
    "    # each country has a column (1 if the patent belong to the country 0 otherwise)\n",
    "    df[value] = df['countries_in_family'].apply(lambda x: 1 if value in x else 0)\n"
   ]
  },
  {
   "cell_type": "code",
   "execution_count": 8,
   "metadata": {},
   "outputs": [
    {
     "name": "stdout",
     "output_type": "stream",
     "text": [
      "missing value in description text 0\n"
     ]
    }
   ],
   "source": [
    "df = df[df.abstract.notna()].copy() # drop all samples without abstract\n",
    "print('missing value in description text' , df.description_text.isna().sum()) # description_text doesn't have mssing vales"
   ]
  },
  {
   "cell_type": "code",
   "execution_count": 9,
   "metadata": {},
   "outputs": [],
   "source": [
    "# encode company names\n",
    "df['company_name_encoded'] = df.company_name.astype('category').cat.codes  # encode companies\n",
    "\n",
    "# remove non-numeric columns\n",
    "df_columns_dropped = df.drop(['publication_number', 'company_name', 'countries_in_family', 'publn_nr','primary_cpc'], axis = 1)\n",
    "\n",
    "# f0_ has the same value as commercialization, the other two shouldn't be used\n",
    "df_columns_dropped = df_columns_dropped.drop(['f0_', 'centrality', 'similarity'], axis = 1)"
   ]
  },
  {
   "cell_type": "code",
   "execution_count": 10,
   "metadata": {},
   "outputs": [],
   "source": [
    "# remove text as I can't compute min and max on it\n",
    "text = df_columns_dropped[['abstract', 'description_text']] # putting them aside for later\n",
    "df_columns_dropped.drop(['abstract', 'description_text'], axis=1, inplace=True)"
   ]
  },
  {
   "cell_type": "code",
   "execution_count": 11,
   "metadata": {},
   "outputs": [],
   "source": [
    "# extracting what we'll try to predict\n",
    "y = df_columns_dropped['commercialized']\n",
    "df_columns_dropped.drop('commercialized', axis= 1, inplace=True)"
   ]
  },
  {
   "cell_type": "code",
   "execution_count": 12,
   "metadata": {},
   "outputs": [],
   "source": [
    "# dropping columns where all the value are the same (only one unique value) they would be zero if I apply min max rescaling\n",
    "nunique = df_columns_dropped.nunique()\n",
    "cols_to_drop = nunique[nunique == 1].index\n",
    "df_clean = df_columns_dropped.drop(cols_to_drop, axis=1)"
   ]
  },
  {
   "cell_type": "code",
   "execution_count": 13,
   "metadata": {},
   "outputs": [],
   "source": [
    "# splitting train and test and trying best preprocessing on training set\n",
    "# all preprocessing will be done on X_train and only in the end tested on X_test\n",
    "X_train, X_test, y_train, y_test = train_test_split(df_clean, y, test_size=0.20)"
   ]
  },
  {
   "cell_type": "markdown",
   "metadata": {},
   "source": [
    "### Select best way to fill missing values"
   ]
  },
  {
   "cell_type": "code",
   "execution_count": 11,
   "metadata": {},
   "outputs": [
    {
     "name": "stdout",
     "output_type": "stream",
     "text": [
      "method:mean\n",
      "Average F1 Score: 0.8768672758214603\n",
      "Average Accuracy: 0.8929402945172583\n",
      "Average Precision: 0.889420960318955\n",
      "Average Recall: 0.8646747752511897\n",
      "\n",
      "method:median\n",
      "Average F1 Score: 0.8771966777629532\n",
      "Average Accuracy: 0.8932200637086265\n",
      "Average Precision: 0.8897090898813357\n",
      "Average Recall: 0.8650449497620306\n",
      "\n",
      "method:most_frequent\n",
      "Average F1 Score: 0.8772071483561273\n",
      "Average Accuracy: 0.8932433791667751\n",
      "Average Precision: 0.8898397829546603\n",
      "Average Recall: 0.8649391856160762\n",
      "\n",
      "method:zero\n",
      "Average F1 Score: 0.8770293133331581\n",
      "Average Accuracy: 0.8930801763952063\n",
      "Average Precision: 0.889586183000352\n",
      "Average Recall: 0.8648334214701217\n",
      "\n"
     ]
    }
   ],
   "source": [
    "# TODO: rerun\n",
    "# find best method for filling missing values\n",
    "\n",
    "accuracies = []\n",
    "\n",
    "#rescale \n",
    "scaler = ('scaler', StandardScaler())\n",
    "filling_methods = ['mean', 'median', 'most_frequent', 'zero']\n",
    "\n",
    "for method in filling_methods:\n",
    "    # Make a copy of the original data to avoid modifying it\n",
    "    data_filled = X_train.copy()\n",
    "\n",
    "    # Fill NaN values based on the selected method\n",
    "    if method == 'zero':\n",
    "        # data_filled = data_filled.fillna(0)  # You can choose any constant value\n",
    "        imputer =  ('imputer', SimpleImputer(strategy='constant', fill_value=0))\n",
    "    else:\n",
    "        imputer = ('imputer', SimpleImputer(strategy=method, keep_empty_features=False))\n",
    "    \n",
    "    # default max_iter was reached, so increased it\n",
    "    model = ('model', LogisticRegression(max_iter=1000))\n",
    "\n",
    "    #rescale \n",
    "    # scaler.fit(data_filled)\n",
    "    # data_filled = scaler.transform(data_filled)\n",
    "\n",
    "    pipeline = Pipeline([imputer ,scaler, model])\n",
    "\n",
    "    # Perform cross-validation and print the mean score\n",
    "    scores_dict = cross_validate(estimator=pipeline, X=data_filled, y=y_train, n_jobs=5, cv=5,scoring=['f1', 'accuracy', 'precision', 'recall'])\n",
    "\n",
    "    accuracies.append(scores_dict[\"test_accuracy\"])\n",
    "\n",
    "    # Print the results\n",
    "    print(f'method:{method}')\n",
    "    print(f'Average F1 Score: {np.mean(scores_dict[\"test_f1\"])}')\n",
    "    print(f'Average Accuracy: {np.mean(scores_dict[\"test_accuracy\"])}')\n",
    "    print(f'Average Precision: {np.mean(scores_dict[\"test_precision\"])}')\n",
    "    print(f'Average Recall: {np.mean(scores_dict[\"test_recall\"])}')\n",
    "    print() "
   ]
  },
  {
   "cell_type": "code",
   "execution_count": 96,
   "metadata": {},
   "outputs": [
    {
     "name": "stdout",
     "output_type": "stream",
     "text": [
      "F-statistic: 0.1862935451418707\n",
      "P-value: 0.9041639871526389\n",
      "There is no significant difference in means between the accuracy vectors.\n"
     ]
    }
   ],
   "source": [
    "# perform ANOVA test to see if there is significant difference between the accuracies\n",
    "\n",
    "f_statistic, p_value = f_oneway(*accuracies)\n",
    "\n",
    "# Print the results\n",
    "print(f'F-statistic: {f_statistic}')\n",
    "print(f'P-value: {p_value}')\n",
    "\n",
    "# Check if the p-value is below the significance level (e.g., 0.05)\n",
    "if p_value < 0.05:\n",
    "    print('The means of the accuracy vectors are significantly different.')\n",
    "else:\n",
    "    print('There is no significant difference in means between the accuracy vectors.')"
   ]
  },
  {
   "cell_type": "code",
   "execution_count": 14,
   "metadata": {},
   "outputs": [],
   "source": [
    "# create new train test split with missing values filled\n",
    "df_clean.fillna(0, inplace=True)\n",
    "X_train, X_test, y_train, y_test = train_test_split(df_clean, y, test_size=0.20)"
   ]
  },
  {
   "cell_type": "markdown",
   "metadata": {},
   "source": [
    "So, it doesn't matter which filling method we will use. "
   ]
  },
  {
   "cell_type": "markdown",
   "metadata": {},
   "source": [
    "### Vectorization of text (bag of words)"
   ]
  },
  {
   "cell_type": "code",
   "execution_count": 11,
   "metadata": {},
   "outputs": [],
   "source": [
    "# putting text back in\n",
    "df_clean[['abstract', 'description_text']] = text  \n",
    "\n",
    "# split again\n",
    "X_train, X_test, y_train, y_test = train_test_split(df_clean, y, test_size=0.20, random_state=42)\n",
    "\n",
    "X_no_text = X_train.drop(['abstract', 'description_text'],  axis = 1)"
   ]
  },
  {
   "cell_type": "code",
   "execution_count": 15,
   "metadata": {},
   "outputs": [],
   "source": [
    "# Example: Assuming 'X_train' contains your abstracts\n",
    "# Tokenize the text\n",
    "tokenized_text = [word_tokenize(text) for text in X_train['abstract']]\n",
    "\n",
    "# Train Word2Vec model\n",
    "word2vec_model = Word2Vec(sentences=tokenized_text, vector_size=300, window=5, min_count=1, workers=8)\n",
    "\n",
    "# Encode abstracts using the trained Word2Vec model\n",
    "encoded_abstracts = []\n",
    "for words in tokenized_text:\n",
    "    # Take the mean of word vectors for each abstract\n",
    "    encoded_abstract = np.mean([word2vec_model.wv[word] for word in words if word in word2vec_model.wv] or [np.zeros(100)], axis=0)\n",
    "    encoded_abstracts.append(encoded_abstract)\n",
    "\n",
    "# 'encoded_abstracts' now contains the encoded versions of your abstracts\n",
    "# encoded_abstracts"
   ]
  },
  {
   "cell_type": "code",
   "execution_count": 18,
   "metadata": {},
   "outputs": [
    {
     "name": "stdout",
     "output_type": "stream",
     "text": [
      "model:Count Vectorizer\n",
      "Average F1 Score: 0.8740139802811113\n",
      "Average Accuracy: 0.8907255432248438\n",
      "Average Precision: 0.8869105119031999\n",
      "Average Recall: 0.8614879186095803\n",
      "\n",
      "model:Word2Vec\n",
      "Average F1 Score: 0.874449725268549\n",
      "Average Accuracy: 0.8911218875314744\n",
      "Average Precision: 0.8875273807949027\n",
      "Average Recall: 0.8617528613819415\n",
      "\n",
      "model:TF-IDF Vectorizer\n",
      "Average F1 Score: 0.8734154393901576\n",
      "Average Accuracy: 0.890142683950387\n",
      "Average Precision: 0.8857900498071526\n",
      "Average Recall: 0.8613819415006359\n",
      "\n"
     ]
    }
   ],
   "source": [
    "# Create pipeline, will use teh best model found before\n",
    "pipeline = Pipeline([\n",
    "    ('imputer', SimpleImputer(strategy='constant', fill_value=0)),  # Fill missing values with zero\n",
    "    ('scaler', StandardScaler(with_mean=False)), \n",
    "    ('random_forest', LogisticRegression(random_state=42, max_iter=10000))\n",
    "    ])\n",
    "\n",
    "# Define vectorizers\n",
    "vectorizers = {\n",
    "    'Count Vectorizer': CountVectorizer(max_features = 300),\n",
    "    'Word2Vec' : None,\n",
    "    'TF-IDF Vectorizer': TfidfVectorizer(max_features = 300),\n",
    "}\n",
    "\n",
    "X_train_only_text = X_train[['abstract']]\n",
    "# Tokenize text for Word2Vec\n",
    "tokenized_text = [word_tokenize(text) for text in X_train['abstract']]\n",
    "\n",
    "# Train Word2Vec model\n",
    "word2vec_model = Word2Vec(sentences=tokenized_text, vector_size=100, window=5, min_count=1, workers=4)\n",
    "accuracies = []\n",
    "# Transform text data using different vectorization methods and evaluate models\n",
    "\n",
    "for vectorizer_name, vectorizer in vectorizers.items():\n",
    "    if 'Word2Vec' in vectorizer_name:\n",
    "        # Use Word Embeddings (Word2Vec) for Word Embeddings model\n",
    "        X_train_transformed = np.array([np.mean([word2vec_model.wv[word] for word in words if word in word2vec_model.wv] or [np.zeros(100)], axis=0) for words in tokenized_text])\n",
    "        X_train_transformed = pd.DataFrame(X_train_transformed).reset_index(drop=True)\n",
    "    else:\n",
    "        # Use Count Vectorization or TF-IDF Vectorization for other models\n",
    "        X_train_transformed = vectorizer.fit_transform(X_train_only_text['abstract'].values)\n",
    "        X_train_transformed = pd.DataFrame(X_train_transformed.toarray()).reset_index(drop=True)\n",
    "\n",
    "    \n",
    "    X_train_transformed = pd.concat([X_no_text.reset_index(drop=True), X_train_transformed], axis=1)\n",
    "    X_train_transformed.columns = X_train_transformed.columns.astype(str) \n",
    "\n",
    "    # print(X_train_transformed.head(1))\n",
    "    # print(X_train_transformed.select_dtypes(include = ['object']).head(1)  )\n",
    "\n",
    "    # Evaluate the model using cross-validation\n",
    "    scores_dict = cross_validate(pipeline, X_train_transformed, y_train, cv=2, n_jobs=5, scoring=['f1', 'accuracy', 'precision', 'recall'])\n",
    "\n",
    "    # Print the mean accuracy for each combination\n",
    "    accuracies.append(scores_dict[\"test_accuracy\"])\n",
    "\n",
    "    # Print the results\n",
    "    print(f'model:{vectorizer_name}')\n",
    "    print(f'Average F1 Score: {np.mean(scores_dict[\"test_f1\"])}')\n",
    "    print(f'Average Accuracy: {np.mean(scores_dict[\"test_accuracy\"])}')\n",
    "    print(f'Average Precision: {np.mean(scores_dict[\"test_precision\"])}')\n",
    "    print(f'Average Recall: {np.mean(scores_dict[\"test_recall\"])}')\n",
    "    print() \n"
   ]
  },
  {
   "cell_type": "markdown",
   "metadata": {},
   "source": [
    "In this section we have considered a dataset made of the features and the words embedings (created with different techniques). CountVectorizer is the one that leads to the best results, but these (even if close) don't improve the baseline model. Thus in the following section we won't consider the word embeddings. <br>\n",
    "Due to computational limitation we could only compute the word embeding on the abstract (as it was shorter) and not on description_text (text description of images). In any case the abstract is probably the one with more relevant information. "
   ]
  },
  {
   "cell_type": "markdown",
   "metadata": {},
   "source": [
    "### Model selection"
   ]
  },
  {
   "cell_type": "code",
   "execution_count": 21,
   "metadata": {},
   "outputs": [
    {
     "name": "stdout",
     "output_type": "stream",
     "text": [
      "model:Naive Bayes\n",
      "Average F1 Score: 0.7981264063990366\n",
      "Average Accuracy: 0.8180546629679728\n",
      "Average Precision: 0.7815569820983869\n",
      "Average Recall: 0.8154240289399723\n",
      "\n",
      "model:Random Forest\n",
      "Average F1 Score: 0.9105827845413541\n",
      "Average Accuracy: 0.9216637322816854\n",
      "Average Precision: 0.9168938455832066\n",
      "Average Recall: 0.9043818065575439\n",
      "\n",
      "model:Logistic Regression\n",
      "Average F1 Score: 0.8778932106640829\n",
      "Average Accuracy: 0.8940828606759916\n",
      "Average Precision: 0.8930735372629087\n",
      "Average Recall: 0.8632590776920672\n",
      "\n",
      "model:Neural Network\n",
      "Average F1 Score: 0.8954278596607255\n",
      "Average Accuracy: 0.907348731283325\n",
      "Average Precision: 0.8915868277870558\n",
      "Average Recall: 0.8996246421204466\n",
      "\n",
      "model:Gradient Boosted Trees\n",
      "Average F1 Score: 0.8850025699691113\n",
      "Average Accuracy: 0.9006107432489193\n",
      "Average Precision: 0.9037215831408009\n",
      "Average Recall: 0.8670646304067546\n",
      "\n",
      "model:SVM\n",
      "Average F1 Score: 0.8815568422902347\n",
      "Average Accuracy: 0.8982094576075428\n",
      "Average Precision: 0.9055136363114755\n",
      "Average Recall: 0.8588717384270008\n",
      "\n"
     ]
    }
   ],
   "source": [
    "# model selection\n",
    "\n",
    "accuracies = []\n",
    "\n",
    "pipe_step = [('imputer', SimpleImputer(strategy='constant', fill_value=0)),  # Fill missing values with zero\n",
    "    ('scaler', MinMaxScaler())]\n",
    "\n",
    "models = {\n",
    "    'Naive Bayes': MultinomialNB(), \n",
    "    'Random Forest': RandomForestClassifier(random_state=42),\n",
    "    'Logistic Regression': LogisticRegression(random_state=42, max_iter=1000),\n",
    "    'Neural Network': MLPClassifier(random_state=42, max_iter=1000),\n",
    "    'Gradient Boosted Trees': GradientBoostingClassifier(random_state=42),\n",
    "    'SVM': SVC(random_state=42)\n",
    "}\n",
    "\n",
    "# Perform model selection using cross-validation\n",
    "for model_name, model in models.items():\n",
    "    \n",
    "\n",
    "    pipeline = Pipeline(pipe_step + [(model_name, model)])\n",
    "    # Print the cross-validation scores\n",
    "    scores_dict = cross_validate(estimator=pipeline, X=X_train, y=y_train, cv=5, n_jobs=5, scoring=['f1', 'accuracy', 'precision', 'recall'])\n",
    "\n",
    "    accuracies.append(scores_dict[\"test_accuracy\"])\n",
    "\n",
    "    # Print the results\n",
    "    print(f'model:{model_name}')\n",
    "    print(f'Average F1 Score: {np.mean(scores_dict[\"test_f1\"])}')\n",
    "    print(f'Average Accuracy: {np.mean(scores_dict[\"test_accuracy\"])}')\n",
    "    print(f'Average Precision: {np.mean(scores_dict[\"test_precision\"])}')\n",
    "    print(f'Average Recall: {np.mean(scores_dict[\"test_recall\"])}')\n",
    "    print() \n"
   ]
  },
  {
   "cell_type": "code",
   "execution_count": 24,
   "metadata": {},
   "outputs": [
    {
     "name": "stdout",
     "output_type": "stream",
     "text": [
      "F-statistic: 732.1790424391622\n",
      "P-value: 2.0941088839896943e-25\n",
      "The means of the accuracy vectors are significantly different.\n"
     ]
    }
   ],
   "source": [
    "# perform ANOVA test to see if there is significant difference between the accuracies\n",
    "f_statistic, p_value = f_oneway(*accuracies)\n",
    "\n",
    "# Print the results\n",
    "print(f'F-statistic: {f_statistic}')\n",
    "print(f'P-value: {p_value}')\n",
    "\n",
    "# Check if the p-value is below the significance level (e.g., 0.05)\n",
    "if p_value < 0.05:\n",
    "    print('The means of the accuracy vectors are significantly different.')\n",
    "else:\n",
    "    print('There is no significant difference in means between the accuracy vectors.')"
   ]
  },
  {
   "cell_type": "code",
   "execution_count": 28,
   "metadata": {},
   "outputs": [
    {
     "data": {
      "text/plain": [
       "'Naive Bayes'"
      ]
     },
     "execution_count": 28,
     "metadata": {},
     "output_type": "execute_result"
    }
   ],
   "source": [
    "list(models.keys())[0]"
   ]
  },
  {
   "cell_type": "code",
   "execution_count": 31,
   "metadata": {},
   "outputs": [
    {
     "name": "stdout",
     "output_type": "stream",
     "text": [
      "The difference in accuracies between Random Forest and Naive Bayes is statistically significant.\n",
      "The difference in accuracies between Random Forest and Random Forest is statistically significant.\n",
      "The difference in accuracies between Random Forest and Logistic Regression is statistically significant.\n",
      "The difference in accuracies between Random Forest and Neural Network is statistically significant.\n",
      "The difference in accuracies between Random Forest and Gradient Boosted Trees is statistically significant.\n",
      "The difference in accuracies between Logistic Regression and Random Forest is statistically significant.\n",
      "The difference in accuracies between Logistic Regression and Logistic Regression is statistically significant.\n",
      "The difference in accuracies between Logistic Regression and Neural Network is statistically significant.\n",
      "The difference in accuracies between Logistic Regression and Gradient Boosted Trees is statistically significant.\n",
      "The difference in accuracies between Neural Network and Logistic Regression is statistically significant.\n",
      "The difference in accuracies between Neural Network and Neural Network is statistically significant.\n",
      "The difference in accuracies between Neural Network and Gradient Boosted Trees is statistically significant.\n",
      "The difference in accuracies between Gradient Boosted Trees and Neural Network is statistically significant.\n",
      "The difference in accuracies between Gradient Boosted Trees and Gradient Boosted Trees is statistically significant.\n",
      "There is no statistically significant difference in accuracies between Pair SVM and Gradient Boosted Trees.\n"
     ]
    }
   ],
   "source": [
    "from scipy.stats import ttest_rel\n",
    "\n",
    "# Perform paired t-test for each pair of lists\n",
    "num_lists = len(accuracies)\n",
    "model_names = list(models.keys())\n",
    "\n",
    "for i in range(num_lists - 1):\n",
    "    for j in range(i + 1, num_lists):\n",
    "        acc_list_1 = accuracies[i]\n",
    "        acc_list_2 = accuracies[j]\n",
    "\n",
    "        # Perform paired t-test\n",
    "        t_statistic, p_value = ttest_rel(acc_list_1, acc_list_2)\n",
    "\n",
    "        # Display the results\n",
    "        # print(f\"T-statistic for Pair {i+1}-{j+1}: {t_statistic}\")\n",
    "        # print(f\"P-value for Pair {i+1}-{j+1}: {p_value}\")\n",
    "\n",
    "        # Check for statistical significance (common significance level is 0.05)\n",
    "        if p_value < 0.05:\n",
    "            print(f\"The difference in accuracies between {model_names[i+1]} and {model_names[j-1]} is statistically significant.\")\n",
    "        else:\n",
    "            print(f\"There is no statistically significant difference in accuracies between Pair {model_names[i+1]} and {model_names[j-1]}.\")"
   ]
  },
  {
   "cell_type": "markdown",
   "metadata": {},
   "source": [
    "We performed cross validation on the different models in order to determine which one was the best fit for our data. We found that the difference in accuracies are statistically significant, thus we can conclude that Random forest is the best model among the considered ones. "
   ]
  },
  {
   "cell_type": "markdown",
   "metadata": {},
   "source": [
    "HYPERPARAMETER TUNING"
   ]
  },
  {
   "cell_type": "code",
   "execution_count": 15,
   "metadata": {},
   "outputs": [
    {
     "name": "stdout",
     "output_type": "stream",
     "text": [
      "Best Hyperparameters: {'max_depth': None, 'min_samples_leaf': 1, 'min_samples_split': 2, 'n_estimators': 200}\n",
      "Test Set Accuracy: 0.9273591943304738\n"
     ]
    }
   ],
   "source": [
    "from sklearn.model_selection import GridSearchCV\n",
    "\n",
    "rf_classifier = RandomForestClassifier(random_state=42)\n",
    "\n",
    "param_grid = {\n",
    "    'n_estimators': [50, 100, 200],\n",
    "    'max_depth': [None, 10, 20, 30],\n",
    "    'min_samples_split': [2, 5, 10],\n",
    "    'min_samples_leaf': [1, 2, 4]\n",
    "}\n",
    "\n",
    "grid_search = GridSearchCV(estimator=rf_classifier, param_grid=param_grid, cv=5, scoring='accuracy', n_jobs=-1) # grid search with 5-fold cross-val\n",
    "grid_search.fit(X_train, y_train)\n",
    "\n",
    "print(\"Best Hyperparameters:\", grid_search.best_params_)\n",
    "\n",
    "best_rf_classifier = grid_search.best_estimator_\n",
    "best_rf_classifier.fit(X_train, y_train)\n",
    "y_pred = best_rf_classifier.predict(X_test)\n",
    "accuracy = accuracy_score(y_test, y_pred)\n",
    "print(\"Test Set Accuracy:\", accuracy)"
   ]
  },
  {
   "cell_type": "code",
   "execution_count": 16,
   "metadata": {},
   "outputs": [
    {
     "name": "stdout",
     "output_type": "stream",
     "text": [
      "Test Set Accuracy: 0.9273591943304738\n",
      "Precision: 0.9273073838643956\n",
      "Recall: 0.9273591943304738\n",
      "F1-Score: 0.927319491126453\n"
     ]
    }
   ],
   "source": [
    "accuracy = accuracy_score(y_test, y_pred)\n",
    "precision = precision_score(y_test, y_pred, average='weighted')\n",
    "recall = recall_score(y_test, y_pred, average='weighted')\n",
    "f1 = f1_score(y_test, y_pred, average='weighted')\n",
    "\n",
    "print(\"Test Set Accuracy:\", accuracy)\n",
    "print(\"Precision:\", precision)\n",
    "print(\"Recall:\", recall)\n",
    "print(\"F1-Score:\", f1)"
   ]
  },
  {
   "cell_type": "markdown",
   "metadata": {},
   "source": [
    "## Searching for most relevant features"
   ]
  },
  {
   "cell_type": "code",
   "execution_count": 16,
   "metadata": {},
   "outputs": [],
   "source": [
    "accuracies_features = []  # store here the accuracies of different subset of features"
   ]
  },
  {
   "cell_type": "code",
   "execution_count": 17,
   "metadata": {},
   "outputs": [
    {
     "name": "stdout",
     "output_type": "stream",
     "text": [
      "Average F1 Score: 0.9121783280856958\n",
      "Average Accuracy: 0.923155908014525\n",
      "Average Precision: 0.9190403357096258\n",
      "Average Recall: 0.9054218460724677\n"
     ]
    }
   ],
   "source": [
    "# base line with all features\n",
    "accuracies_features.append(train_RF(X_train, y_train))"
   ]
  },
  {
   "cell_type": "code",
   "execution_count": 18,
   "metadata": {},
   "outputs": [
    {
     "name": "stdout",
     "output_type": "stream",
     "text": [
      "Case 1: No google embeddings\n",
      "Average F1 Score: 0.9054968930639621\n",
      "Average Accuracy: 0.9179567782662424\n",
      "Average Precision: 0.9196503741789893\n",
      "Average Recall: 0.8917746627876223\n",
      "\n",
      "Case 2: No future information\n",
      "Average F1 Score: 0.9124705025870222\n",
      "Average Accuracy: 0.9233657281137109\n",
      "Average Precision: 0.9187114655793703\n",
      "Average Recall: 0.9063210790796086\n",
      "\n",
      "Case 3: No vpm_patent_score\n",
      "Average F1 Score: 0.8750202271100745\n",
      "Average Accuracy: 0.8913318350091755\n",
      "Average Precision: 0.8871547858452864\n",
      "Average Recall: 0.8632636868553293\n",
      "\n",
      "Case 4: No future information and vpm\n",
      "Average F1 Score: 0.8754026081482389\n",
      "Average Accuracy: 0.8916582052217441\n",
      "Average Precision: 0.8875801949114749\n",
      "Average Recall: 0.8636339592700344\n",
      "\n"
     ]
    }
   ],
   "source": [
    "# case 1 - no google embeddings\n",
    "google_embeddings = ['v1_0', 'v1_1', 'v1_2', 'v1_3', 'v1_4', 'v1_5', 'v1_6', 'v1_7', 'v1_8', 'v1_9', 'v1_10', 'v1_11', 'v1_12', 'v1_13', 'v1_14', 'v1_15', 'v1_16', 'v1_17', 'v1_18', 'v1_19', 'v1_20', 'v1_21', 'v1_22', 'v1_23', 'v1_24', 'v1_25', 'v1_26', 'v1_27', 'v1_28', 'v1_29', 'v1_30', 'v1_31', 'v1_32', 'v1_33', 'v1_34', 'v1_35', 'v1_36', 'v1_37', 'v1_38', 'v1_39', 'v1_40', 'v1_41', 'v1_42', 'v1_43', 'v1_44', 'v1_45', 'v1_46', 'v1_47', 'v1_48', 'v1_49', 'v1_50', 'v1_51', 'v1_52', 'v1_53', 'v1_54', 'v1_55', 'v1_56', 'v1_57', 'v1_58', 'v1_59', 'v1_60', 'v1_61', 'v1_62', 'v1_63']\n",
    "df_no_google = modify_df(X_train, google_embeddings)\n",
    "print(\"Case 1: No google embeddings\")\n",
    "accuracies_features.append(train_RF(df_no_google, y_train))\n",
    "print()\n",
    "\n",
    "# case 2 - no future info\n",
    "future_info = ['forward_citations','litigated', 'renewed_after_first_term', 'renewed_after_second_term', 'renewed_after_third_term', 'opposed', 'fwd_cites_same_company']\n",
    "df_no_future = modify_df(X_train, future_info)\n",
    "print(\"Case 2: No future information\")\n",
    "accuracies_features.append(train_RF(df_no_future, y_train))\n",
    "print()\n",
    "\n",
    "# case 3 - no vpm_patent_score\n",
    "vpm_patent_score = ['vpm_patent_score']\n",
    "df_no_vpm = modify_df(X_train, vpm_patent_score)\n",
    "print(\"Case 3: No vpm_patent_score\")                                                                                                                                                                                \n",
    "accuracies_features.append(train_RF(df_no_vpm, y_train))\n",
    "print()\n",
    "\n",
    "# case 4 - no future info\n",
    "future_info_vpm = ['vpm_patent_score', 'forward_citations','litigated', 'renewed_after_first_term', 'renewed_after_second_term', 'renewed_after_third_term', 'opposed', 'fwd_cites_same_company']\n",
    "df_no_future_vpm = modify_df(X_train, future_info_vpm)\n",
    "print(\"Case 4: No future information and vpm\")\n",
    "accuracies_features.append(train_RF(df_no_future_vpm, y_train))\n",
    "print()\n",
    "\n",
    "# case 4 - no primary cpc as we are not supposed to normalized ------ ALREADY NOT THERE, MAYBE ENCODED IN DUMMY? CHECK\n",
    "# primary_cpc = ['primary_cpc']\n",
    "# df_no_cpc = modify_df(df_clean, primary_cpc)\n",
    "# print(\"Case 4: No primary_cpc\")\n",
    "# train_RF(df_no_cpc, y)"
   ]
  },
  {
   "cell_type": "code",
   "execution_count": 19,
   "metadata": {},
   "outputs": [
    {
     "data": {
      "text/html": [
       "<style>#sk-container-id-1 {color: black;}#sk-container-id-1 pre{padding: 0;}#sk-container-id-1 div.sk-toggleable {background-color: white;}#sk-container-id-1 label.sk-toggleable__label {cursor: pointer;display: block;width: 100%;margin-bottom: 0;padding: 0.3em;box-sizing: border-box;text-align: center;}#sk-container-id-1 label.sk-toggleable__label-arrow:before {content: \"▸\";float: left;margin-right: 0.25em;color: #696969;}#sk-container-id-1 label.sk-toggleable__label-arrow:hover:before {color: black;}#sk-container-id-1 div.sk-estimator:hover label.sk-toggleable__label-arrow:before {color: black;}#sk-container-id-1 div.sk-toggleable__content {max-height: 0;max-width: 0;overflow: hidden;text-align: left;background-color: #f0f8ff;}#sk-container-id-1 div.sk-toggleable__content pre {margin: 0.2em;color: black;border-radius: 0.25em;background-color: #f0f8ff;}#sk-container-id-1 input.sk-toggleable__control:checked~div.sk-toggleable__content {max-height: 200px;max-width: 100%;overflow: auto;}#sk-container-id-1 input.sk-toggleable__control:checked~label.sk-toggleable__label-arrow:before {content: \"▾\";}#sk-container-id-1 div.sk-estimator input.sk-toggleable__control:checked~label.sk-toggleable__label {background-color: #d4ebff;}#sk-container-id-1 div.sk-label input.sk-toggleable__control:checked~label.sk-toggleable__label {background-color: #d4ebff;}#sk-container-id-1 input.sk-hidden--visually {border: 0;clip: rect(1px 1px 1px 1px);clip: rect(1px, 1px, 1px, 1px);height: 1px;margin: -1px;overflow: hidden;padding: 0;position: absolute;width: 1px;}#sk-container-id-1 div.sk-estimator {font-family: monospace;background-color: #f0f8ff;border: 1px dotted black;border-radius: 0.25em;box-sizing: border-box;margin-bottom: 0.5em;}#sk-container-id-1 div.sk-estimator:hover {background-color: #d4ebff;}#sk-container-id-1 div.sk-parallel-item::after {content: \"\";width: 100%;border-bottom: 1px solid gray;flex-grow: 1;}#sk-container-id-1 div.sk-label:hover label.sk-toggleable__label {background-color: #d4ebff;}#sk-container-id-1 div.sk-serial::before {content: \"\";position: absolute;border-left: 1px solid gray;box-sizing: border-box;top: 0;bottom: 0;left: 50%;z-index: 0;}#sk-container-id-1 div.sk-serial {display: flex;flex-direction: column;align-items: center;background-color: white;padding-right: 0.2em;padding-left: 0.2em;position: relative;}#sk-container-id-1 div.sk-item {position: relative;z-index: 1;}#sk-container-id-1 div.sk-parallel {display: flex;align-items: stretch;justify-content: center;background-color: white;position: relative;}#sk-container-id-1 div.sk-item::before, #sk-container-id-1 div.sk-parallel-item::before {content: \"\";position: absolute;border-left: 1px solid gray;box-sizing: border-box;top: 0;bottom: 0;left: 50%;z-index: -1;}#sk-container-id-1 div.sk-parallel-item {display: flex;flex-direction: column;z-index: 1;position: relative;background-color: white;}#sk-container-id-1 div.sk-parallel-item:first-child::after {align-self: flex-end;width: 50%;}#sk-container-id-1 div.sk-parallel-item:last-child::after {align-self: flex-start;width: 50%;}#sk-container-id-1 div.sk-parallel-item:only-child::after {width: 0;}#sk-container-id-1 div.sk-dashed-wrapped {border: 1px dashed gray;margin: 0 0.4em 0.5em 0.4em;box-sizing: border-box;padding-bottom: 0.4em;background-color: white;}#sk-container-id-1 div.sk-label label {font-family: monospace;font-weight: bold;display: inline-block;line-height: 1.2em;}#sk-container-id-1 div.sk-label-container {text-align: center;}#sk-container-id-1 div.sk-container {/* jupyter's `normalize.less` sets `[hidden] { display: none; }` but bootstrap.min.css set `[hidden] { display: none !important; }` so we also need the `!important` here to be able to override the default hidden behavior on the sphinx rendered scikit-learn.org. See: https://github.com/scikit-learn/scikit-learn/issues/21755 */display: inline-block !important;position: relative;}#sk-container-id-1 div.sk-text-repr-fallback {display: none;}</style><div id=\"sk-container-id-1\" class=\"sk-top-container\"><div class=\"sk-text-repr-fallback\"><pre>PCA()</pre><b>In a Jupyter environment, please rerun this cell to show the HTML representation or trust the notebook. <br />On GitHub, the HTML representation is unable to render, please try loading this page with nbviewer.org.</b></div><div class=\"sk-container\" hidden><div class=\"sk-item\"><div class=\"sk-estimator sk-toggleable\"><input class=\"sk-toggleable__control sk-hidden--visually\" id=\"sk-estimator-id-1\" type=\"checkbox\" checked><label for=\"sk-estimator-id-1\" class=\"sk-toggleable__label sk-toggleable__label-arrow\">PCA</label><div class=\"sk-toggleable__content\"><pre>PCA()</pre></div></div></div></div></div>"
      ],
      "text/plain": [
       "PCA()"
      ]
     },
     "execution_count": 19,
     "metadata": {},
     "output_type": "execute_result"
    }
   ],
   "source": [
    "# CASE 5 - CPA, taking no future info as baseline as it achieved max accuracy\n",
    "data = df_no_future.copy()\n",
    "\n",
    "scaler = StandardScaler()\n",
    "scaled_data = scaler.fit_transform(data)\n",
    "\n",
    "pca = PCA()\n",
    "pca.fit(scaled_data)"
   ]
  },
  {
   "cell_type": "code",
   "execution_count": 20,
   "metadata": {},
   "outputs": [
    {
     "data": {
      "image/png": "[encoded data removed]",
      "text/plain": [
       "<Figure size 640x480 with 1 Axes>"
      ]
     },
     "metadata": {},
     "output_type": "display_data"
    }
   ],
   "source": [
    "plt.plot(range(1, len(pca.explained_variance_ratio_) + 1), \n",
    "         np.cumsum(pca.explained_variance_ratio_))\n",
    "plt.xlabel('Number of Components')\n",
    "plt.ylabel('Cumulative Explained Variance')\n",
    "plt.show()"
   ]
  },
  {
   "cell_type": "code",
   "execution_count": 21,
   "metadata": {},
   "outputs": [
    {
     "name": "stdout",
     "output_type": "stream",
     "text": [
      "Number of components selected: 615\n"
     ]
    }
   ],
   "source": [
    "desired_variance = 0.95\n",
    "n_components = np.argmax(np.cumsum(pca.explained_variance_ratio_) >= desired_variance) + 1\n",
    "print(\"Number of components selected:\", n_components)"
   ]
  },
  {
   "cell_type": "code",
   "execution_count": 22,
   "metadata": {},
   "outputs": [
    {
     "name": "stdout",
     "output_type": "stream",
     "text": [
      "Average F1 Score: 0.8576575455069466\n",
      "Average Accuracy: 0.8784854578424637\n",
      "Average Precision: 0.8864823504993471\n",
      "Average Recall: 0.8306797143612801\n"
     ]
    }
   ],
   "source": [
    "pca = PCA(n_components=627)\n",
    "principal_components = pca.fit_transform(scaled_data)\n",
    "\n",
    "# Create a DataFrame with the principal components\n",
    "pc_df = pd.DataFrame(data=principal_components)\n",
    "\n",
    "accuracies_features.append(train_RF(pc_df, y_train))"
   ]
  },
  {
   "cell_type": "code",
   "execution_count": 23,
   "metadata": {},
   "outputs": [
    {
     "name": "stdout",
     "output_type": "stream",
     "text": [
      "Explained Variance Ratio:\n",
      "[0.03460264 0.01407924]\n"
     ]
    },
    {
     "data": {
      "image/png": "[encoded data removed]",
      "text/plain": [
       "<Figure size 640x480 with 1 Axes>"
      ]
     },
     "metadata": {},
     "output_type": "display_data"
    }
   ],
   "source": [
    "# CASE 5 - PCA, taking no future info as baseline as it achieved max accuracy\n",
    "data = df_no_future.copy()\n",
    "\n",
    "scaler = StandardScaler()\n",
    "scaled_data = scaler.fit_transform(data)\n",
    "\n",
    "pca = PCA(n_components=2)\n",
    "principal_components = pca.fit_transform(scaled_data)\n",
    "\n",
    "pc_df = pd.DataFrame(data=principal_components, columns=['PC1', 'PC2'])\n",
    "\n",
    "# Display the explained variance ratio\n",
    "print(\"Explained Variance Ratio:\")\n",
    "print(pca.explained_variance_ratio_)\n",
    "\n",
    "# Plot the results\n",
    "plt.scatter(pc_df['PC1'], pc_df['PC2'])\n",
    "plt.title('PCA Result')\n",
    "plt.xlabel('Principal Component 1 (PC1)')\n",
    "plt.ylabel('Principal Component 2 (PC2)')\n",
    "plt.show()"
   ]
  },
  {
   "cell_type": "code",
   "execution_count": 24,
   "metadata": {},
   "outputs": [
    {
     "name": "stdout",
     "output_type": "stream",
     "text": [
      "Average F1 Score: 0.9117484901740941\n",
      "Average Accuracy: 0.9227828634018811\n",
      "Average Precision: 0.9186598021032711\n",
      "Average Recall: 0.9049457815392753\n"
     ]
    }
   ],
   "source": [
    "# CASE 6 - using chi-square for feature selection\n",
    "data = df_no_future.copy()\n",
    "scaler = MinMaxScaler()\n",
    "scaled_data = scaler.fit_transform(X_train)\n",
    "\n",
    "k_best = SelectKBest(score_func=chi2, k='all')\n",
    "k_best.fit(scaled_data, y_train)\n",
    "\n",
    "selected_features_indices = k_best.get_support(indices=True)\n",
    "\n",
    "x_train_selected = k_best.transform(scaled_data)\n",
    "\n",
    "accuracies_features.append(train_RF(x_train_selected, y_train))\n"
   ]
  },
  {
   "cell_type": "code",
   "execution_count": 25,
   "metadata": {},
   "outputs": [
    {
     "data": {
      "text/plain": [
       "(844, 844)"
      ]
     },
     "execution_count": 25,
     "metadata": {},
     "output_type": "execute_result"
    }
   ],
   "source": [
    "# chi-square didn't drop any parameter, confirming they're are all usefull for reaching the optimal performances\n",
    "len(selected_features_indices), len(X_train.columns)"
   ]
  },
  {
   "cell_type": "code",
   "execution_count": 26,
   "metadata": {},
   "outputs": [
    {
     "name": "stdout",
     "output_type": "stream",
     "text": [
      "F-statistic: 99.13264998495931\n",
      "P-value: 1.5181793202533522e-17\n",
      "The means of the accuracy vectors are significantly different.\n"
     ]
    }
   ],
   "source": [
    "# perform ANOVA test to see if there is significant difference between the accuracies\n",
    "f_statistic, p_value = f_oneway(*accuracies_features)\n",
    "\n",
    "# Print the results\n",
    "print(f'F-statistic: {f_statistic}')\n",
    "print(f'P-value: {p_value}')\n",
    "\n",
    "# Check if the p-value is below the significance level (e.g., 0.05)\n",
    "if p_value < 0.05:\n",
    "    print('The means of the accuracy vectors are significantly different.')\n",
    "else:\n",
    "    print('There is no significant difference in means between the accuracy vectors.')"
   ]
  },
  {
   "cell_type": "code",
   "execution_count": 30,
   "metadata": {},
   "outputs": [
    {
     "name": "stdout",
     "output_type": "stream",
     "text": [
      "Statistical test for difference between baseline accuracies and reduced features accuracies\n",
      "\n",
      "P-value for baseline and no google embeddings: 0.0006628338922366351\n",
      "The difference in accuracies between baseline and no google embeddings is statistically significant.\n",
      "\n",
      "P-value for baseline and no future information: 0.5796225360336489\n",
      "There is no statistically significant difference in accuracies between Pair baseline and no future information.\n",
      "\n",
      "P-value for baseline and No vpm_patent_score: 4.135928272235385e-06\n",
      "The difference in accuracies between baseline and No vpm_patent_score is statistically significant.\n",
      "\n",
      "P-value for baseline and no future info and vppm: 1.0286557146591188e-05\n",
      "The difference in accuracies between baseline and no future info and vppm is statistically significant.\n",
      "\n",
      "P-value for baseline and PCA: 618 features: 3.1423207689180155e-06\n",
      "The difference in accuracies between baseline and PCA: 618 features is statistically significant.\n",
      "\n",
      "P-value for baseline and chi-square feature selection: 0.11506844948993189\n",
      "There is no statistically significant difference in accuracies between Pair baseline and chi-square feature selection.\n",
      "\n"
     ]
    }
   ],
   "source": [
    "from scipy.stats import ttest_rel\n",
    "\n",
    "feature_selection_type = ['baseline', 'no google embeddings', 'no future information', 'No vpm_patent_score', 'no future info and vppm', 'PCA: 618 features', 'chi-square feature selection']\n",
    "\n",
    "\n",
    "print('Statistical test for difference between baseline accuracies and reduced features accuracies')\n",
    "print()\n",
    "\n",
    "# Perform paired t-test for each pair of lists\n",
    "num_lists = len(accuracies_features)\n",
    "\n",
    "for i in range(num_lists - 1):\n",
    "    for j in range(i + 1, num_lists):\n",
    "        acc_list_1 = accuracies_features[i]\n",
    "        acc_list_2 = accuracies_features[j]\n",
    "\n",
    "        # Perform paired t-test\n",
    "        t_statistic, p_value = ttest_rel(acc_list_1, acc_list_2)\n",
    "\n",
    "        # Display the results\n",
    "        # print(f\"T-statistic for Pair {i+1}-{j+1}: {t_statistic}\")\n",
    "        print(f\"P-value for {feature_selection_type[i]} and {feature_selection_type[j]}: {p_value}\")\n",
    "\n",
    "        # Check for statistical significance (common significance level is 0.05)\n",
    "        if p_value < 0.05:\n",
    "            print(f\"The difference in accuracies between {feature_selection_type[i]} and {feature_selection_type[j]} is statistically significant.\")\n",
    "        else:\n",
    "            print(f\"There is no statistically significant difference in accuracies between Pair {feature_selection_type[i]} and {feature_selection_type[j]}.\")\n",
    "\n",
    "        print()\n",
    "    break"
   ]
  },
  {
   "cell_type": "code",
   "execution_count": 31,
   "metadata": {},
   "outputs": [
    {
     "name": "stdout",
     "output_type": "stream",
     "text": [
      "baseline 0.923155908014525\n",
      "no google embeddings 0.9179567782662424\n",
      "no future information 0.9233657281137109\n",
      "No vpm_patent_score 0.8913318350091755\n",
      "no future info and vppm 0.8916582052217441\n",
      "PCA: 618 features 0.8784854578424637\n",
      "chi-square feature selection 0.9227828634018811\n"
     ]
    }
   ],
   "source": [
    "for name, accuracy in zip(feature_selection_type, accuracies_features): \n",
    "    print(name, np.mean(accuracy))"
   ]
  },
  {
   "cell_type": "markdown",
   "metadata": {},
   "source": [
    "In the following analysis we won't consider \"chi-square feature selection\" as that didn't drop any feature. <br>\n",
    "Some differences between accuraccies are statistically, but not all of them. The interesting thing to notice is that the regularization that comes from dropping a certain subset of features doesn't lead to an improvement in performances.<br>\n",
    "Removing google embedings and future information didn't lead to any statistical significant reduction in the accuracy which means that these information aren't of central importance for predicting commercialization"
   ]
  },
  {
   "cell_type": "code",
   "execution_count": 144,
   "metadata": {},
   "outputs": [
    {
     "name": "stdout",
     "output_type": "stream",
     "text": [
      "0.9258672137262216\n"
     ]
    },
    {
     "data": {
      "image/png": "[encoded data removed]",
      "text/plain": [
       "<Figure size 640x480 with 1 Axes>"
      ]
     },
     "metadata": {},
     "output_type": "display_data"
    }
   ],
   "source": [
    "scaler = StandardScaler()\n",
    "scaled_data = scaler.fit_transform(X_train)\n",
    "\n",
    "rf_classifier = RandomForestClassifier(n_estimators=100, random_state=42)\n",
    "rf_classifier.fit(scaled_data, y_train)\n",
    "\n",
    "y_pred = rf_classifier.predict(scaler.transform(X_test))\n",
    "accuracy = accuracy_score(y_test, y_pred)\n",
    "print(accuracy)\n",
    "\n",
    "sorted_data = sorted(zip(X_train.columns, rf_classifier.feature_importances_), key=lambda x: x[1], reverse = True)\n",
    "\n",
    "# Unzip the sorted data\n",
    "names, feature_importances = zip(*sorted_data)\n",
    "\n",
    "# Print the sorted lists\n",
    "\n",
    "plt.bar(names[:30], feature_importances[:30])\n",
    "plt.xticks(rotation = 90)\n",
    "plt.show()"
   ]
  },
  {
   "cell_type": "code",
   "execution_count": 143,
   "metadata": {},
   "outputs": [
    {
     "name": "stdout",
     "output_type": "stream",
     "text": [
      "0.8956546064901156\n"
     ]
    },
    {
     "data": {
      "image/png": "[encoded data removed]",
      "text/plain": [
       "<Figure size 640x480 with 1 Axes>"
      ]
     },
     "metadata": {},
     "output_type": "display_data"
    }
   ],
   "source": [
    "# SV (dummy variable for country el salvador) gets a lot of importance when when vpm_patent_score aren't present\n",
    "\n",
    "scaler = StandardScaler()\n",
    "scaled_data = scaler.fit_transform(df_no_vpm)\n",
    "\n",
    "rf_classifier = RandomForestClassifier(n_estimators=100, random_state=42)\n",
    "rf_classifier.fit(scaled_data, y_train)\n",
    "\n",
    "x_test_mod = modify_df(X_test, vpm_patent_score)\n",
    "y_pred = rf_classifier.predict(scaler.transform(x_test_mod))\n",
    "accuracy = accuracy_score(y_test, y_pred)\n",
    "print(accuracy)\n",
    "\n",
    "sorted_data = sorted(zip(X_train.columns, rf_classifier.feature_importances_), key=lambda x: x[1], reverse = True)\n",
    "\n",
    "# Unzip the sorted data\n",
    "names, feature_importances = zip(*sorted_data)\n",
    "\n",
    "# Print the sorted lists\n",
    "\n",
    "plt.bar(names[:30], feature_importances[:30])\n",
    "plt.xticks(rotation = 90)\n",
    "plt.show()"
   ]
  },
  {
   "cell_type": "code",
   "execution_count": 146,
   "metadata": {},
   "outputs": [
    {
     "name": "stdout",
     "output_type": "stream",
     "text": [
      "0.9160760910108169\n"
     ]
    },
    {
     "data": {
      "image/png": "[encoded data removed]",
      "text/plain": [
       "<Figure size 640x480 with 1 Axes>"
      ]
     },
     "metadata": {},
     "output_type": "display_data"
    }
   ],
   "source": [
    "scaler = StandardScaler()\n",
    "scaled_data = scaler.fit_transform(df_no_google)\n",
    "\n",
    "rf_classifier = RandomForestClassifier(n_estimators=100, random_state=42)\n",
    "rf_classifier.fit(scaled_data, y_train)\n",
    "\n",
    "x_test_mod = modify_df(X_test, google_embeddings)\n",
    "y_pred = rf_classifier.predict(scaler.transform(x_test_mod))\n",
    "accuracy = accuracy_score(y_test, y_pred)\n",
    "print(accuracy)\n",
    "\n",
    "sorted_data = sorted(zip(X_train.columns, rf_classifier.feature_importances_), key=lambda x: x[1], reverse = True)\n",
    "\n",
    "# Unzip the sorted data\n",
    "names, feature_importances = zip(*sorted_data)\n",
    "\n",
    "# Print the sorted lists\n",
    "\n",
    "plt.bar(names[:30], feature_importances[:30])\n",
    "plt.xticks(rotation = 90)\n",
    "plt.show()"
   ]
  },
  {
   "cell_type": "code",
   "execution_count": 32,
   "metadata": {},
   "outputs": [
    {
     "name": "stdout",
     "output_type": "stream",
     "text": [
      "0.8940693770980978\n"
     ]
    },
    {
     "data": {
      "image/png": "[encoded data removed]",
      "text/plain": [
       "<Figure size 640x480 with 1 Axes>"
      ]
     },
     "metadata": {},
     "output_type": "display_data"
    }
   ],
   "source": [
    "scaler = StandardScaler()\n",
    "scaled_data = scaler.fit_transform(df_no_future_vpm)\n",
    "\n",
    "rf_classifier = RandomForestClassifier(n_estimators=100, random_state=42)\n",
    "rf_classifier.fit(scaled_data, y_train)\n",
    "\n",
    "x_test_mod = modify_df(X_test, future_info_vpm)\n",
    "y_pred = rf_classifier.predict(scaler.transform(x_test_mod))\n",
    "accuracy = accuracy_score(y_test, y_pred)\n",
    "print(accuracy)\n",
    "\n",
    "sorted_data = sorted(zip(X_train.columns, rf_classifier.feature_importances_), key=lambda x: x[1], reverse = True)\n",
    "\n",
    "# Unzip the sorted data\n",
    "names, feature_importances = zip(*sorted_data)\n",
    "\n",
    "# Print the sorted lists\n",
    "\n",
    "plt.bar(names[:30], feature_importances[:30])\n",
    "plt.xticks(rotation = 90)\n",
    "plt.show()"
   ]
  },
  {
   "cell_type": "markdown",
   "metadata": {},
   "source": [
    "## Trying Bert to make prediction on the abstract and text description"
   ]
  },
  {
   "cell_type": "code",
   "execution_count": 11,
   "metadata": {},
   "outputs": [],
   "source": [
    "\n",
    "import torch\n",
    "from torch.utils.data import Dataset, DataLoader\n",
    "from transformers import BertModel, BertTokenizer\n",
    "from transformers import BertTokenizer, BertForSequenceClassification, AdamW\n",
    "\n",
    "# Define your dataset class\n",
    "class CustomDataset(Dataset):\n",
    "    def __init__(self, features, texts, labels, tokenizer, max_length):\n",
    "        self.features = features\n",
    "        self.texts = texts\n",
    "        self.labels = labels\n",
    "        self.tokenizer = tokenizer\n",
    "        self.max_length = max_length\n",
    "\n",
    "    def __len__(self):\n",
    "        return len(self.features)\n",
    "\n",
    "    def __getitem__(self, idx):\n",
    "        text = list(self.texts.iloc[idx])\n",
    "        label = int(self.labels[idx])\n",
    "\n",
    "        encoding = self.tokenizer(text, truncation=True, padding='max_length', max_length=self.max_length, return_tensors='pt')\n",
    "        \n",
    "        return {\n",
    "            'features': torch.tensor(self.features.iloc[idx]),\n",
    "            'input_ids': encoding['input_ids'].flatten(),\n",
    "            'attention_mask': encoding['attention_mask'].flatten(),\n",
    "            'label': torch.tensor(label, dtype=torch.long)\n",
    "        }\n",
    "\n",
    "\n",
    "from transformers import BertModel\n",
    "\n",
    "class CustomBERTClassifier(torch.nn.Module):\n",
    "    def __init__(self, num_classes, feature_dim):\n",
    "        super(CustomBERTClassifier, self).__init__()\n",
    "        self.bert = BertModel.from_pretrained('bert-base-uncased', num_labels=num_classes)\n",
    "        \n",
    "        # Freeze all BERT layers except the last three\n",
    "        for param in self.bert.parameters():\n",
    "            param.requires_grad = False\n",
    "        for param in self.bert.encoder.layer[-3:].parameters():\n",
    "            param.requires_grad = True\n",
    "\n",
    "        self.fc = torch.nn.Linear(feature_dim + self.bert.config.hidden_size, 128)  # Adjust as needed\n",
    "        self.final_layer = torch.nn.Linear(128, num_classes)\n",
    "\n",
    "    def forward(self, input_ids, attention_mask, features):\n",
    "        outputs = self.bert(input_ids, attention_mask=attention_mask)\n",
    "        pooled_output = outputs.pooler_output\n",
    "\n",
    "        # Concatenate BERT output with additional features\n",
    "        combined_features = torch.cat([pooled_output, features], dim=1)\n",
    "\n",
    "        # Fully connected layer\n",
    "        combined_features = torch.relu(self.fc(combined_features))\n",
    "\n",
    "        # Final classification layer\n",
    "        logits = self.final_layer(combined_features)\n",
    "\n",
    "        return logits"
   ]
  },
  {
   "cell_type": "code",
   "execution_count": 12,
   "metadata": {},
   "outputs": [],
   "source": [
    "df_clean[['abstract', 'description_text']] = text  # incorporate text\n",
    "X_train, X_test, y_train, y_test = train_test_split(df_clean, y, test_size=0.20, random_state=42)"
   ]
  },
  {
   "cell_type": "code",
   "execution_count": 13,
   "metadata": {},
   "outputs": [
    {
     "name": "stdout",
     "output_type": "stream",
     "text": [
      "loaded\n"
     ]
    }
   ],
   "source": [
    "# load model\n",
    "\n",
    "device = torch.device(\"cuda\" if torch.cuda.is_available() else \"cpu\")\n",
    "# device  = 'cpu'\n",
    "\n",
    "# Set up your data and model\n",
    "tokenizer = BertTokenizer.from_pretrained('bert-base-uncased')\n",
    "max_length = 128  # Adjust as needed\n",
    "num_classes = 2  # Binary classification\n",
    "\n",
    "# reset indexes, otherwise it doesn't work\n",
    "X_train.reset_index(drop=True, inplace=True)\n",
    "y_train.reset_index(drop=True, inplace=True)\n",
    "\n",
    "features = X_train.drop(['abstract', 'description_text'], axis = 1)\n",
    "texts = X_train[['abstract', 'description_text']]\n",
    "\n",
    "dataset = CustomDataset(features, texts, y_train, tokenizer, max_length)\n",
    "dataloader = DataLoader(dataset, batch_size=32, shuffle=True)\n",
    "\n",
    "model = CustomBERTClassifier(num_classes, len(features.columns))\n",
    "model.to(device)  # Move the model to GPU if available\n",
    "\n",
    "print('loaded')"
   ]
  },
  {
   "cell_type": "code",
   "execution_count": 15,
   "metadata": {},
   "outputs": [
    {
     "name": "stderr",
     "output_type": "stream",
     "text": [
      "/home/stefano/anaconda3/lib/python3.9/site-packages/transformers/optimization.py:411: FutureWarning: This implementation of AdamW is deprecated and will be removed in a future version. Use the PyTorch implementation torch.optim.AdamW instead, or set `no_deprecation_warning=True` to disable this warning\n",
      "  warnings.warn(\n"
     ]
    },
    {
     "name": "stdout",
     "output_type": "stream",
     "text": [
      "epoch: 0\n",
      "epoch: 1\n",
      "epoch: 2\n",
      "epoch: 3\n",
      "epoch: 4\n",
      "epoch: 5\n",
      "epoch: 6\n",
      "epoch: 7\n",
      "epoch: 8\n",
      "epoch: 9\n"
     ]
    }
   ],
   "source": [
    "\n",
    "# Set up your optimizer\n",
    "optimizer = AdamW(model.parameters(), lr=5e-5)\n",
    "\n",
    "# Training loop\n",
    "num_epochs = 10  # Adjust as needed\n",
    "\n",
    "for epoch in range(num_epochs):\n",
    "    print('epoch:', epoch)\n",
    "    model.train()\n",
    "    for batch in dataloader:\n",
    "        input_ids = batch['input_ids'].to(device)\n",
    "        attention_mask = batch['attention_mask'].to(device)\n",
    "        features = batch['features'].to(device)\n",
    "        labels = batch['label'].to(device)\n",
    "\n",
    "        optimizer.zero_grad()\n",
    "\n",
    "        features = features.to(torch.float32)       \n",
    "        outputs = model(input_ids, attention_mask=attention_mask, features=features)\n",
    "        loss = torch.nn.functional.cross_entropy(outputs, labels)\n",
    "\n",
    "        loss.backward()\n",
    "        optimizer.step()    \n",
    "\n",
    "        # explicity memory release otherwise fills all RAM\n",
    "        del input_ids, attention_mask, features, labels, outputs, loss"
   ]
  },
  {
   "cell_type": "code",
   "execution_count": 21,
   "metadata": {},
   "outputs": [],
   "source": [
    "# prediction\n",
    "X_test.reset_index(drop=True, inplace=True)\n",
    "y_test.reset_index(drop=True, inplace=True)\n",
    "\n",
    "features = X_test.drop(['abstract', 'description_text'], axis = 1)\n",
    "texts = X_test[['abstract', 'description_text']]\n",
    "\n",
    "dataset = CustomDataset(features, texts, y_test, tokenizer, max_length)\n",
    "dataloader = DataLoader(dataset, batch_size=32, shuffle=True)\n",
    "\n",
    "# Make predictions for all elements in the dataset\n",
    "all_predictions = []\n",
    "\n",
    "with torch.no_grad():\n",
    "    for batch in dataloader:\n",
    "        input_ids = batch['input_ids'].to(device)\n",
    "        attention_mask = batch['attention_mask'].to(device)\n",
    "        features = batch['features'].to(device)\n",
    "\n",
    "        features = features.to(torch.float32)   \n",
    "        logits = model(input_ids, attention_mask=attention_mask, features=features)\n",
    "        predicted_classes = torch.argmax(logits, dim=1).tolist()\n",
    "\n",
    "        all_predictions.extend(predicted_classes)"
   ]
  },
  {
   "cell_type": "code",
   "execution_count": 22,
   "metadata": {},
   "outputs": [
    {
     "data": {
      "text/plain": [
       "0.5555762775083923"
      ]
     },
     "execution_count": 22,
     "metadata": {},
     "output_type": "execute_result"
    }
   ],
   "source": [
    "(all_predictions == y_test).sum() / len(y_test)"
   ]
  }
 ],
 "metadata": {
  "kernelspec": {
   "display_name": "base",
   "language": "python",
   "name": "python3"
  },
  "language_info": {
   "codemirror_mode": {
    "name": "ipython",
    "version": 3
   },
   "file_extension": ".py",
   "mimetype": "text/x-python",
   "name": "python",
   "nbconvert_exporter": "python",
   "pygments_lexer": "ipython3",
   "version": "3.11.4"
  }
 },
 "nbformat": 4,
 "nbformat_minor": 2
}
