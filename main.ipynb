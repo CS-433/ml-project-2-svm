{
 "cells": [
  {
   "cell_type": "code",
   "execution_count": 1,
   "metadata": {},
   "outputs": [],
   "source": [
    "from sklearn.linear_model import LogisticRegression\n",
    "from sklearn.preprocessing import StandardScaler\n",
    "from sklearn.model_selection import train_test_split\n",
    "from sklearn.preprocessing import MinMaxScaler\n",
    "from transformers import BertTokenizer, BertForSequenceClassification, AdamW\n",
    "from sklearn.feature_extraction.text import TfidfVectorizer\n",
    "from utilities import *\n",
    "import pandas as pd\n",
    "import numpy as np \n",
    "import json"
   ]
  },
  {
   "cell_type": "code",
   "execution_count": 2,
   "metadata": {},
   "outputs": [],
   "source": [
    "# pick full or smaller version of dataset\n",
    "df = pd.read_csv('data/modelready_220423.csv')\n",
    "# df = pd.read_csv('data/ten_percent.csv')"
   ]
  },
  {
   "cell_type": "code",
   "execution_count": 3,
   "metadata": {},
   "outputs": [
    {
     "name": "stdout",
     "output_type": "stream",
     "text": [
      "tot columns = 772, numeric type columns = 765\n"
     ]
    },
    {
     "data": {
      "text/html": [
       "<div>\n",
       "<style scoped>\n",
       "    .dataframe tbody tr th:only-of-type {\n",
       "        vertical-align: middle;\n",
       "    }\n",
       "\n",
       "    .dataframe tbody tr th {\n",
       "        vertical-align: top;\n",
       "    }\n",
       "\n",
       "    .dataframe thead th {\n",
       "        text-align: right;\n",
       "    }\n",
       "</style>\n",
       "<table border=\"1\" class=\"dataframe\">\n",
       "  <thead>\n",
       "    <tr style=\"text-align: right;\">\n",
       "      <th></th>\n",
       "      <th>publication_number</th>\n",
       "      <th>company_name</th>\n",
       "      <th>countries_in_family</th>\n",
       "      <th>publn_nr</th>\n",
       "      <th>primary_cpc</th>\n",
       "      <th>abstract</th>\n",
       "      <th>description_text</th>\n",
       "    </tr>\n",
       "  </thead>\n",
       "  <tbody>\n",
       "    <tr>\n",
       "      <th>0</th>\n",
       "      <td>US-8623043-B1</td>\n",
       "      <td>Entellus Medical, Inc.</td>\n",
       "      <td>['AU' 'EP' 'CA' 'US']</td>\n",
       "      <td>8623043</td>\n",
       "      <td>A61M29/02</td>\n",
       "      <td>A method of treating a constricted sinus passa...</td>\n",
       "      <td>RELATED APPLICATIONS \\n     This Application i...</td>\n",
       "    </tr>\n",
       "  </tbody>\n",
       "</table>\n",
       "</div>"
      ],
      "text/plain": [
       "  publication_number            company_name    countries_in_family publn_nr  \\\n",
       "0      US-8623043-B1  Entellus Medical, Inc.  ['AU' 'EP' 'CA' 'US']  8623043   \n",
       "\n",
       "  primary_cpc                                           abstract  \\\n",
       "0   A61M29/02  A method of treating a constricted sinus passa...   \n",
       "\n",
       "                                    description_text  \n",
       "0  RELATED APPLICATIONS \\n     This Application i...  "
      ]
     },
     "execution_count": 3,
     "metadata": {},
     "output_type": "execute_result"
    }
   ],
   "source": [
    "numerics = ['int16', 'int32', 'int64', 'float16', 'float32', 'float64']\n",
    "print(f'tot columns = {len(df.columns)}, numeric type columns = {len(df.select_dtypes(include=numerics).columns)}' ) # not too many non-numeric columns\n",
    "df.select_dtypes(include = ['object']).head(1)  # print non numeri columns"
   ]
  },
  {
   "cell_type": "code",
   "execution_count": 4,
   "metadata": {},
   "outputs": [],
   "source": [
    "# extract unique countries in the df\n",
    "unique_values = set()\n",
    "df['countries_in_family'].apply(lambda x: unique_values.update(x.strip(\"[]\").replace(\"'\", \"\").split())) \n",
    "\n",
    "# Create new columns for each unique value\n",
    "for value in unique_values:\n",
    "    # each country has a column (1 if the patent belong to the country 0 otherwise)\n",
    "    df[value] = df['countries_in_family'].apply(lambda x: 1 if value in x else 0)\n"
   ]
  },
  {
   "cell_type": "code",
   "execution_count": 5,
   "metadata": {},
   "outputs": [
    {
     "name": "stdout",
     "output_type": "stream",
     "text": [
      "missing value in description text 0\n"
     ]
    }
   ],
   "source": [
    "df = df[df.abstract.notna()].copy() # drop all samples without abstract\n",
    "print('missing value in description text' , df.description_text.isna().sum()) # description_text doesn't have mssing vales"
   ]
  },
  {
   "cell_type": "code",
   "execution_count": 6,
   "metadata": {},
   "outputs": [],
   "source": [
    "# encode company names\n",
    "df['company_name_encoded'] = df.company_name.astype('category').cat.codes  # encode companies\n",
    "\n",
    "# remove non-numeric columns\n",
    "df_columns_dropped = df.drop(['publication_number', 'company_name', 'countries_in_family', 'publn_nr','primary_cpc'], axis = 1)\n",
    "\n",
    "# f0_ has the same value as commercialization, the other two shouldn't be used\n",
    "df_columns_dropped = df_columns_dropped.drop(['f0_', 'centrality', 'similarity'], axis = 1)"
   ]
  },
  {
   "cell_type": "code",
   "execution_count": 7,
   "metadata": {},
   "outputs": [],
   "source": [
    "# remove text as I can't compute min and max on it\n",
    "text = df_columns_dropped[['abstract', 'description_text']] # putting them aside for later\n",
    "df_columns_dropped.drop(['abstract', 'description_text'], axis=1, inplace=True)"
   ]
  },
  {
   "cell_type": "code",
   "execution_count": 8,
   "metadata": {},
   "outputs": [
    {
     "name": "stdout",
     "output_type": "stream",
     "text": [
      "missing values = 88097 \n",
      "missing values after filling= 0 \n"
     ]
    }
   ],
   "source": [
    "print(f'missing values = {df_columns_dropped.isna().sum().sum()} ')# some missin values\n",
    "df_no_missing = df_columns_dropped.fillna(df_columns_dropped.mean()).copy()\n",
    "print(f'missing values after filling= {df_no_missing.isna().sum().sum()} ')\n",
    "\n",
    "# extracting what we'll try to predict\n",
    "y = df_no_missing['commercialized']\n",
    "df_no_missing.drop('commercialized', axis= 1, inplace=True)"
   ]
  },
  {
   "cell_type": "code",
   "execution_count": 9,
   "metadata": {},
   "outputs": [
    {
     "name": "stdout",
     "output_type": "stream",
     "text": [
      "column with all same values: ['dummy_country_US', 'US']\n"
     ]
    }
   ],
   "source": [
    "# dropping columns where all the value are the same (min = max) they would be zero if I apply min max rescaling\n",
    "min_eq_max = df_no_missing.columns[df_no_missing.min() == df_no_missing.max()].to_list()\n",
    "print(f'column with all same values: {min_eq_max}')\n",
    "df_clean = df_no_missing.drop(min_eq_max, axis=1)"
   ]
  },
  {
   "cell_type": "code",
   "execution_count": 10,
   "metadata": {},
   "outputs": [],
   "source": [
    "X_train, X_test, y_train, y_test = train_test_split(df_clean, y, test_size=0.20, random_state=42)\n",
    "\n",
    "#rescale \n",
    "scaler = StandardScaler()\n",
    "scaler.fit(X_train)\n",
    "X_train_scaled = scaler.transform(X_train)\n",
    "X_test_scaled = scaler.transform(X_test)\n"
   ]
  },
  {
   "cell_type": "code",
   "execution_count": 11,
   "metadata": {},
   "outputs": [
    {
     "data": {
      "text/plain": [
       "0.8904326743752331"
      ]
     },
     "execution_count": 11,
     "metadata": {},
     "output_type": "execute_result"
    }
   ],
   "source": [
    "# without considering the text  \n",
    "\n",
    "clf = LogisticRegression(random_state=0, max_iter=2000).fit(X_train_scaled, y_train)  \n",
    "clf.score(X_test_scaled, y_test)  # accuracy "
   ]
  },
  {
   "cell_type": "code",
   "execution_count": 12,
   "metadata": {},
   "outputs": [],
   "source": [
    "# putting text back in\n",
    "df_clean[['abstract', 'description_text']] = text  "
   ]
  },
  {
   "cell_type": "code",
   "execution_count": 13,
   "metadata": {},
   "outputs": [],
   "source": [
    "\n",
    "X_train, X_test, y_train, y_test = train_test_split(df_clean, y, test_size=0.20, random_state=42)\n",
    "\n",
    "# same vectorizer applyied to training and testing\n",
    "\n",
    "# bag of words for abstract\n",
    "vectorizer = TfidfVectorizer(max_features=1000)  # Adjust 'max_features' as needed\n",
    "X_train_ab = encode_text_colum(X_train, 'abstract', vectorizer)\n",
    "X_test_ab = encode_text_colum(X_test, 'abstract', vectorizer)\n",
    "\n",
    "# bag of words for description_text\n",
    "vectorizer = TfidfVectorizer(max_features=1000)  # Adjust 'max_features' as needed\n",
    "X_train_de = encode_text_colum(X_train_ab, 'description_text', vectorizer)\n",
    "X_test_de = encode_text_colum(X_test_ab, 'description_text', vectorizer)\n",
    "\n",
    "\n",
    "#rescale \n",
    "scaler = StandardScaler()\n",
    "scaler.fit(X_train_de)\n",
    "X_train_scaled = scaler.transform(X_train_de)\n",
    "X_test_scaled = scaler.transform(X_test_de)"
   ]
  },
  {
   "cell_type": "code",
   "execution_count": 12,
   "metadata": {},
   "outputs": [
    {
     "data": {
      "text/plain": [
       "0.7566206639313688"
      ]
     },
     "execution_count": 12,
     "metadata": {},
     "output_type": "execute_result"
    }
   ],
   "source": [
    "# with abstract and text description vectorized\n",
    "\n",
    "clf = LogisticRegression(random_state=0, max_iter=2000).fit(X_train_scaled, y_train)  \n",
    "clf.score(X_test_scaled, y_test)  # accuracy "
   ]
  },
  {
   "cell_type": "code",
   "execution_count": null,
   "metadata": {},
   "outputs": [],
   "source": []
  },
  {
   "cell_type": "markdown",
   "metadata": {},
   "source": [
    "## LLM - Bert"
   ]
  },
  {
   "cell_type": "code",
   "execution_count": 12,
   "metadata": {},
   "outputs": [],
   "source": [
    "\n",
    "import torch\n",
    "from torch.utils.data import Dataset, DataLoader\n",
    "from transformers import BertModel, BertTokenizer\n",
    "from transformers import BertTokenizer, BertForSequenceClassification, AdamW\n",
    "\n",
    "# Define your dataset class\n",
    "class CustomDataset(Dataset):\n",
    "    def __init__(self, features, texts, labels, tokenizer, max_length):\n",
    "        self.features = features\n",
    "        self.texts = texts\n",
    "        self.labels = labels\n",
    "        self.tokenizer = tokenizer\n",
    "        self.max_length = max_length\n",
    "\n",
    "    def __len__(self):\n",
    "        return len(self.features)\n",
    "\n",
    "    def __getitem__(self, idx):\n",
    "        text = list(self.texts.iloc[idx])\n",
    "        label = int(self.labels[idx])\n",
    "\n",
    "        encoding = self.tokenizer(text, truncation=True, padding='max_length', max_length=self.max_length, return_tensors='pt')\n",
    "        \n",
    "        return {\n",
    "            'features': torch.tensor(self.features.iloc[idx]),\n",
    "            'input_ids': encoding['input_ids'].flatten(),\n",
    "            'attention_mask': encoding['attention_mask'].flatten(),\n",
    "            'label': torch.tensor(label, dtype=torch.long)\n",
    "        }\n",
    "\n",
    "\n",
    "\n",
    "# TODO integrate this for use both features and text in bert\n",
    "\n",
    "# class CustomBERTClassifier(torch.nn.Module):\n",
    "#     def __init__(self, num_classes, feature_dim):\n",
    "#         super(CustomBERTClassifier, self).__init__()\n",
    "#         self.bert = BertModel.from_pretrained('bert-base-uncased', num_labels=num_classes)\n",
    "#         self.fc = torch.nn.Linear(feature_dim, 128)  # Adjust as needed\n",
    "#         self.final_layer = torch.nn.Linear(128, num_classes)\n",
    "\n",
    "#     def forward(self, input_ids, attention_mask, features):\n",
    "#         outputs = self.bert(input_ids, attention_mask=attention_mask)\n",
    "#         pooled_output = outputs.pooler_output\n",
    "\n",
    "#         # Concatenate BERT output with additional features\n",
    "#         combined_features = torch.cat([pooled_output, features], dim=1)\n",
    "\n",
    "#         # Fully connected layer\n",
    "#         combined_features = torch.relu(self.fc(combined_features))\n",
    "\n",
    "#         # Final classification layer\n",
    "#         logits = self.final_layer(combined_features)\n",
    "\n",
    "#         return logits\n",
    "\n",
    "\n",
    "# Define your model\n",
    "class CustomBERTClassifier(torch.nn.Module):\n",
    "    def __init__(self, num_classes):\n",
    "        super(CustomBERTClassifier, self).__init__()\n",
    "        self.bert = BertForSequenceClassification.from_pretrained('bert-base-uncased', num_labels=num_classes)\n",
    "\n",
    "    def forward(self, input_ids, attention_mask):\n",
    "        outputs = self.bert(input_ids, attention_mask=attention_mask)\n",
    "        return outputs.logits\n"
   ]
  },
  {
   "cell_type": "code",
   "execution_count": 13,
   "metadata": {},
   "outputs": [],
   "source": [
    "df_clean[['abstract', 'description_text']] = text  # incorporate text\n",
    "X_train, X_test, y_train, y_test = train_test_split(df_clean, y, test_size=0.20, random_state=42)"
   ]
  },
  {
   "cell_type": "code",
   "execution_count": 14,
   "metadata": {},
   "outputs": [
    {
     "name": "stderr",
     "output_type": "stream",
     "text": [
      "Some weights of BertForSequenceClassification were not initialized from the model checkpoint at bert-base-uncased and are newly initialized: ['classifier.bias', 'classifier.weight']\n",
      "You should probably TRAIN this model on a down-stream task to be able to use it for predictions and inference.\n"
     ]
    },
    {
     "name": "stdout",
     "output_type": "stream",
     "text": [
      "loaded\n"
     ]
    }
   ],
   "source": [
    "# load model\n",
    "\n",
    "# device = torch.device(\"cuda\" if torch.cuda.is_available() else \"cpu\")\n",
    "device  = 'cpu'\n",
    "\n",
    "# Set up your data and model\n",
    "tokenizer = BertTokenizer.from_pretrained('bert-base-uncased')\n",
    "max_length = 128  # Adjust as needed\n",
    "num_classes = 2  # Binary classification\n",
    "\n",
    "# reset indexes, otherwise it doesn't work\n",
    "X_train.reset_index(drop=True, inplace=True)\n",
    "y_train.reset_index(drop=True, inplace=True)\n",
    "\n",
    "features = X_train.drop(['abstract', 'description_text'], axis = 1)\n",
    "texts = X_train[['abstract', 'description_text']]\n",
    "\n",
    "dataset = CustomDataset(features, texts, y_train, tokenizer, max_length)\n",
    "dataloader = DataLoader(dataset, batch_size=32, shuffle=True)\n",
    "\n",
    "model = CustomBERTClassifier(num_classes) #, len(features.columns))\n",
    "model.to(device)  # Move the model to GPU if available\n",
    "\n",
    "print('loaded')"
   ]
  },
  {
   "cell_type": "code",
   "execution_count": 15,
   "metadata": {},
   "outputs": [
    {
     "name": "stderr",
     "output_type": "stream",
     "text": [
      "/home/stefano/anaconda3/lib/python3.9/site-packages/transformers/optimization.py:411: FutureWarning: This implementation of AdamW is deprecated and will be removed in a future version. Use the PyTorch implementation torch.optim.AdamW instead, or set `no_deprecation_warning=True` to disable this warning\n",
      "  warnings.warn(\n"
     ]
    }
   ],
   "source": [
    "\n",
    "# Set up your optimizer\n",
    "optimizer = AdamW(model.parameters(), lr=5e-5)\n",
    "\n",
    "# Training loop\n",
    "num_epochs = 4  # Adjust as needed\n",
    "\n",
    "for epoch in range(num_epochs):\n",
    "    model.train()\n",
    "    for batch in dataloader:\n",
    "        input_ids = batch['input_ids'].to(device)\n",
    "        attention_mask = batch['attention_mask'].to(device)\n",
    "        features = batch['features'].to(device)\n",
    "        labels = batch['label'].to(device)\n",
    "\n",
    "        optimizer.zero_grad()\n",
    "    \n",
    "        # outputs = model(input_ids, attention_mask=attention_mask, features=features)\n",
    "        outputs = model(input_ids, attention_mask=attention_mask) #, features=features)\n",
    "        loss = torch.nn.functional.cross_entropy(outputs, labels)\n",
    "\n",
    "        loss.backward()\n",
    "        optimizer.step()\n",
    "\n",
    "        # explicity memory release otherwise fills all RAM\n",
    "        del input_ids, attention_mask, features, labels, outputs, loss"
   ]
  },
  {
   "cell_type": "code",
   "execution_count": 16,
   "metadata": {},
   "outputs": [],
   "source": [
    "# prediction\n",
    "X_test.reset_index(drop=True, inplace=True)\n",
    "y_test.reset_index(drop=True, inplace=True)\n",
    "\n",
    "features = X_test.drop(['abstract', 'description_text'], axis = 1)\n",
    "texts = X_test[['abstract', 'description_text']]\n",
    "\n",
    "dataset = CustomDataset(features, texts, y_test, tokenizer, max_length)\n",
    "dataloader = DataLoader(dataset, batch_size=32, shuffle=True)\n",
    "\n",
    "# Make predictions for all elements in the dataset\n",
    "all_predictions = []\n",
    "\n",
    "with torch.no_grad():\n",
    "    for batch in dataloader:\n",
    "        input_ids = batch['input_ids']\n",
    "        attention_mask = batch['attention_mask']\n",
    "\n",
    "        logits = model(input_ids, attention_mask=attention_mask)\n",
    "        predicted_classes = torch.argmax(logits, dim=1).tolist()\n",
    "\n",
    "        all_predictions.extend(predicted_classes)"
   ]
  },
  {
   "cell_type": "code",
   "execution_count": 17,
   "metadata": {},
   "outputs": [
    {
     "data": {
      "text/plain": [
       "0.5040096978739277"
      ]
     },
     "execution_count": 17,
     "metadata": {},
     "output_type": "execute_result"
    }
   ],
   "source": [
    "(all_predictions == y_test).sum() / len(y_test)"
   ]
  },
  {
   "cell_type": "code",
   "execution_count": null,
   "metadata": {},
   "outputs": [],
   "source": []
  }
 ],
 "metadata": {
  "kernelspec": {
   "display_name": "base",
   "language": "python",
   "name": "python3"
  },
  "language_info": {
   "codemirror_mode": {
    "name": "ipython",
    "version": 3
   },
   "file_extension": ".py",
   "mimetype": "text/x-python",
   "name": "python",
   "nbconvert_exporter": "python",
   "pygments_lexer": "ipython3",
   "version": "3.9.12"
  }
 },
 "nbformat": 4,
 "nbformat_minor": 2
}
