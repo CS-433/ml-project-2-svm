{
 "cells": [
  {
   "cell_type": "code",
   "execution_count": 2,
   "metadata": {},
   "outputs": [],
   "source": [
    "from sklearn.linear_model import LogisticRegression\n",
    "from sklearn.preprocessing import StandardScaler\n",
    "from sklearn.model_selection import train_test_split\n",
    "from sklearn.preprocessing import MinMaxScaler\n",
    "import pandas as pd\n",
    "import numpy as np \n",
    "import json"
   ]
  },
  {
   "cell_type": "code",
   "execution_count": 3,
   "metadata": {},
   "outputs": [],
   "source": [
    "# pick full or smaller version of dataset\n",
    "df = pd.read_csv('data/modelready_220423.csv')\n",
    "# df = pd.read_csv('data/ten_percent.csv')"
   ]
  },
  {
   "cell_type": "code",
   "execution_count": 4,
   "metadata": {},
   "outputs": [
    {
     "name": "stdout",
     "output_type": "stream",
     "text": [
      "tot columns = 772, numeric type columns = 765\n"
     ]
    },
    {
     "data": {
      "text/html": [
       "<div>\n",
       "<style scoped>\n",
       "    .dataframe tbody tr th:only-of-type {\n",
       "        vertical-align: middle;\n",
       "    }\n",
       "\n",
       "    .dataframe tbody tr th {\n",
       "        vertical-align: top;\n",
       "    }\n",
       "\n",
       "    .dataframe thead th {\n",
       "        text-align: right;\n",
       "    }\n",
       "</style>\n",
       "<table border=\"1\" class=\"dataframe\">\n",
       "  <thead>\n",
       "    <tr style=\"text-align: right;\">\n",
       "      <th></th>\n",
       "      <th>publication_number</th>\n",
       "      <th>company_name</th>\n",
       "      <th>countries_in_family</th>\n",
       "      <th>publn_nr</th>\n",
       "      <th>primary_cpc</th>\n",
       "      <th>abstract</th>\n",
       "      <th>description_text</th>\n",
       "    </tr>\n",
       "  </thead>\n",
       "  <tbody>\n",
       "    <tr>\n",
       "      <th>0</th>\n",
       "      <td>US-8623043-B1</td>\n",
       "      <td>Entellus Medical, Inc.</td>\n",
       "      <td>['AU' 'EP' 'CA' 'US']</td>\n",
       "      <td>8623043</td>\n",
       "      <td>A61M29/02</td>\n",
       "      <td>A method of treating a constricted sinus passa...</td>\n",
       "      <td>RELATED APPLICATIONS \\n     This Application i...</td>\n",
       "    </tr>\n",
       "  </tbody>\n",
       "</table>\n",
       "</div>"
      ],
      "text/plain": [
       "  publication_number            company_name    countries_in_family publn_nr  \\\n",
       "0      US-8623043-B1  Entellus Medical, Inc.  ['AU' 'EP' 'CA' 'US']  8623043   \n",
       "\n",
       "  primary_cpc                                           abstract  \\\n",
       "0   A61M29/02  A method of treating a constricted sinus passa...   \n",
       "\n",
       "                                    description_text  \n",
       "0  RELATED APPLICATIONS \\n     This Application i...  "
      ]
     },
     "execution_count": 4,
     "metadata": {},
     "output_type": "execute_result"
    }
   ],
   "source": [
    "numerics = ['int16', 'int32', 'int64', 'float16', 'float32', 'float64']\n",
    "print(f'tot columns = {len(df.columns)}, numeric type columns = {len(df.select_dtypes(include=numerics).columns)}' ) # not too many non-numeric columns\n",
    "df.select_dtypes(include = ['object']).head(1)  # print non numeri columns"
   ]
  },
  {
   "cell_type": "code",
   "execution_count": 4,
   "metadata": {},
   "outputs": [],
   "source": [
    "# extract unique countries in the df\n",
    "unique_values = set()\n",
    "df['countries_in_family'].apply(lambda x: unique_values.update(x.strip(\"[]\").replace(\"'\", \"\").split())) \n",
    "\n",
    "# Create new columns for each unique value\n",
    "for value in unique_values:\n",
    "    # each country has a column (1 if the patent belong to the country 0 otherwise)\n",
    "    df[value] = df['countries_in_family'].apply(lambda x: 1 if value in x else 0)\n"
   ]
  },
  {
   "cell_type": "code",
   "execution_count": 5,
   "metadata": {},
   "outputs": [],
   "source": [
    "# encode company names\n",
    "df['company_name_encoded'] = df.company_name.astype('category').cat.codes  # encode companies\n",
    "\n",
    "# remove non-numeric columns\n",
    "df_columns_dropped = df.drop(['publication_number', 'company_name', 'countries_in_family', 'publn_nr',\n",
    "       'primary_cpc', 'abstract', 'description_text'], axis = 1)\n",
    "\n",
    "# dropping these columns as they're higly correlated with commercialized\n",
    "df_columns_dropped = df_columns_dropped.drop(['f0_', 'centrality', 'similarity'], axis = 1)"
   ]
  },
  {
   "cell_type": "code",
   "execution_count": 6,
   "metadata": {},
   "outputs": [
    {
     "name": "stdout",
     "output_type": "stream",
     "text": [
      "missing values = 126935 \n",
      "missing values after filling= 0 \n"
     ]
    }
   ],
   "source": [
    "print(f'missing values = {df_columns_dropped.isna().sum().sum()} ')# some missin values\n",
    "df_no_missing = df_columns_dropped.fillna(df_columns_dropped.mean()).copy()\n",
    "print(f'missing values after filling= {df_no_missing.isna().sum().sum()} ')\n",
    "\n",
    "# extracting what we'll try to predict\n",
    "y = df_no_missing['commercialized']\n",
    "df_no_missing.drop('commercialized', axis= 1, inplace=True)"
   ]
  },
  {
   "cell_type": "code",
   "execution_count": 7,
   "metadata": {},
   "outputs": [
    {
     "name": "stdout",
     "output_type": "stream",
     "text": [
      "column with all same values: ['dummy_country_US', 'US']\n"
     ]
    }
   ],
   "source": [
    "min_eq_max = df_no_missing.columns[df_no_missing.min() == df_no_missing.max()].to_list()\n",
    "print(f'column with all same values: {min_eq_max}')\n",
    "df_clean = df_no_missing.drop(min_eq_max, axis=1)"
   ]
  },
  {
   "cell_type": "code",
   "execution_count": 8,
   "metadata": {},
   "outputs": [],
   "source": [
    "X_train, X_test, y_train, y_test = train_test_split(df_clean, y, test_size=0.20, random_state=42)\n",
    "\n",
    "scaler = StandardScaler()\n",
    "scaler.fit(X_train)\n",
    "X_train_scaled = scaler.transform(X_train)\n",
    "X_test_scaled = scaler.transform(X_test)"
   ]
  },
  {
   "cell_type": "code",
   "execution_count": 10,
   "metadata": {},
   "outputs": [
    {
     "data": {
      "text/plain": [
       "0.8764009471191792"
      ]
     },
     "execution_count": 10,
     "metadata": {},
     "output_type": "execute_result"
    }
   ],
   "source": [
    "clf = LogisticRegression(random_state=0, max_iter=1000).fit(X_train_scaled, y_train)\n",
    "clf.score(X_test_scaled, y_test)  # accuracy"
   ]
  },
  {
   "cell_type": "code",
   "execution_count": 17,
   "metadata": {},
   "outputs": [
    {
     "data": {
      "text/plain": [
       "(63349, 63349)"
      ]
     },
     "execution_count": 17,
     "metadata": {},
     "output_type": "execute_result"
    }
   ],
   "source": [
    "(df.f0_ == y).sum(), len(df)"
   ]
  }
 ],
 "metadata": {
  "kernelspec": {
   "display_name": "base",
   "language": "python",
   "name": "python3"
  },
  "language_info": {
   "codemirror_mode": {
    "name": "ipython",
    "version": 3
   },
   "file_extension": ".py",
   "mimetype": "text/x-python",
   "name": "python",
   "nbconvert_exporter": "python",
   "pygments_lexer": "ipython3",
   "version": "3.9.12"
  }
 },
 "nbformat": 4,
 "nbformat_minor": 2
}
